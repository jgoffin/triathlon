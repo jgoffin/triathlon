{
 "cells": [
  {
   "cell_type": "markdown",
   "metadata": {},
   "source": [
    "## Libraries/Settings"
   ]
  },
  {
   "cell_type": "code",
   "execution_count": 1,
   "metadata": {},
   "outputs": [],
   "source": [
    "import pandas as pd\n",
    "import time\n",
    "import random\n",
    "\n",
    "import seaborn as sn\n",
    "import matplotlib.pyplot as plt\n",
    "\n",
    "from sklearn.model_selection import train_test_split\n",
    "\n",
    "from sklearn.pipeline import Pipeline\n",
    "from sklearn import impute\n",
    "from sklearn import preprocessing\n",
    "from sklearn import compose\n",
    "\n",
    "from sklearn.model_selection import KFold\n",
    "from sklearn.model_selection import cross_val_score, cross_validate\n",
    "from sklearn.metrics import median_absolute_error\n",
    "\n",
    "from sklearn.linear_model import LinearRegression\n",
    "from sklearn.ensemble import RandomForestRegressor\n",
    "\n",
    "import pickle"
   ]
  },
  {
   "cell_type": "code",
   "execution_count": 2,
   "metadata": {},
   "outputs": [],
   "source": [
    "pd.set_option('display.max_colwidth', 150)\n",
    "pd.set_option('display.max_columns', None)"
   ]
  },
  {
   "cell_type": "markdown",
   "metadata": {},
   "source": [
    "## Acquiring Data"
   ]
  },
  {
   "cell_type": "code",
   "execution_count": 3,
   "metadata": {},
   "outputs": [],
   "source": [
    "event_urls =  pd.read_csv('data/event_urls.csv')"
   ]
  },
  {
   "cell_type": "markdown",
   "metadata": {},
   "source": [
    "We have parsed <b>3169</b> event urls"
   ]
  },
  {
   "cell_type": "code",
   "execution_count": 4,
   "metadata": {},
   "outputs": [
    {
     "data": {
      "text/html": [
       "<div>\n",
       "<style scoped>\n",
       "    .dataframe tbody tr th:only-of-type {\n",
       "        vertical-align: middle;\n",
       "    }\n",
       "\n",
       "    .dataframe tbody tr th {\n",
       "        vertical-align: top;\n",
       "    }\n",
       "\n",
       "    .dataframe thead th {\n",
       "        text-align: right;\n",
       "    }\n",
       "</style>\n",
       "<table border=\"1\" class=\"dataframe\">\n",
       "  <thead>\n",
       "    <tr style=\"text-align: right;\">\n",
       "      <th></th>\n",
       "      <th>id</th>\n",
       "      <th>url</th>\n",
       "    </tr>\n",
       "  </thead>\n",
       "  <tbody>\n",
       "    <tr>\n",
       "      <th>0</th>\n",
       "      <td>0</td>\n",
       "      <td>https://www.athlinks.com/event/30595/results/Event/854628/Results</td>\n",
       "    </tr>\n",
       "    <tr>\n",
       "      <th>1</th>\n",
       "      <td>1</td>\n",
       "      <td>https://www.athlinks.com/event/30595/results/Event/683739/Results</td>\n",
       "    </tr>\n",
       "    <tr>\n",
       "      <th>2</th>\n",
       "      <td>2</td>\n",
       "      <td>https://www.athlinks.com/event/30595/results/Event/635676/Results</td>\n",
       "    </tr>\n",
       "    <tr>\n",
       "      <th>3</th>\n",
       "      <td>3</td>\n",
       "      <td>https://www.athlinks.com/event/30595/results/Event/536470/Results</td>\n",
       "    </tr>\n",
       "    <tr>\n",
       "      <th>4</th>\n",
       "      <td>4</td>\n",
       "      <td>https://www.athlinks.com/event/30595/results/Event/438926/Results</td>\n",
       "    </tr>\n",
       "  </tbody>\n",
       "</table>\n",
       "</div>"
      ],
      "text/plain": [
       "   id                                                                url\n",
       "0   0  https://www.athlinks.com/event/30595/results/Event/854628/Results\n",
       "1   1  https://www.athlinks.com/event/30595/results/Event/683739/Results\n",
       "2   2  https://www.athlinks.com/event/30595/results/Event/635676/Results\n",
       "3   3  https://www.athlinks.com/event/30595/results/Event/536470/Results\n",
       "4   4  https://www.athlinks.com/event/30595/results/Event/438926/Results"
      ]
     },
     "execution_count": 4,
     "metadata": {},
     "output_type": "execute_result"
    }
   ],
   "source": [
    "event_urls.head()"
   ]
  },
  {
   "cell_type": "code",
   "execution_count": 5,
   "metadata": {},
   "outputs": [
    {
     "data": {
      "text/plain": [
       "3169"
      ]
     },
     "execution_count": 5,
     "metadata": {},
     "output_type": "execute_result"
    }
   ],
   "source": [
    "len(event_urls)"
   ]
  },
  {
   "cell_type": "code",
   "execution_count": 6,
   "metadata": {},
   "outputs": [],
   "source": [
    "# ! awk '(NR == 1) || (FNR > 1)' ./racer_url_files/*.csv > racer_urls.csv"
   ]
  },
  {
   "cell_type": "code",
   "execution_count": 7,
   "metadata": {},
   "outputs": [],
   "source": [
    "racer_urls = pd.read_csv('data/racer_urls.csv')"
   ]
  },
  {
   "cell_type": "code",
   "execution_count": 8,
   "metadata": {},
   "outputs": [
    {
     "data": {
      "text/html": [
       "<div>\n",
       "<style scoped>\n",
       "    .dataframe tbody tr th:only-of-type {\n",
       "        vertical-align: middle;\n",
       "    }\n",
       "\n",
       "    .dataframe tbody tr th {\n",
       "        vertical-align: top;\n",
       "    }\n",
       "\n",
       "    .dataframe thead th {\n",
       "        text-align: right;\n",
       "    }\n",
       "</style>\n",
       "<table border=\"1\" class=\"dataframe\">\n",
       "  <thead>\n",
       "    <tr style=\"text-align: right;\">\n",
       "      <th></th>\n",
       "      <th>id</th>\n",
       "      <th>event_id</th>\n",
       "      <th>racer_url</th>\n",
       "    </tr>\n",
       "  </thead>\n",
       "  <tbody>\n",
       "    <tr>\n",
       "      <th>71031</th>\n",
       "      <td>47</td>\n",
       "      <td>154</td>\n",
       "      <td>https://www.athlinks.com/event/34885/results/Event/755516/Course/1284424/Bib/5848</td>\n",
       "    </tr>\n",
       "    <tr>\n",
       "      <th>144943</th>\n",
       "      <td>62</td>\n",
       "      <td>245</td>\n",
       "      <td>https://www.athlinks.com/event/251739/results/Event/759501/Course/1292280/Bib/1137</td>\n",
       "    </tr>\n",
       "    <tr>\n",
       "      <th>286569</th>\n",
       "      <td>41</td>\n",
       "      <td>859</td>\n",
       "      <td>https://www.athlinks.com/event/32292/results/Event/850613/Course/1568645/Bib/1431</td>\n",
       "    </tr>\n",
       "    <tr>\n",
       "      <th>79346</th>\n",
       "      <td>78</td>\n",
       "      <td>158</td>\n",
       "      <td>https://www.athlinks.com/event/34885/results/Event/463397/Course/701295/Bib/8852</td>\n",
       "    </tr>\n",
       "    <tr>\n",
       "      <th>40476</th>\n",
       "      <td>74</td>\n",
       "      <td>141</td>\n",
       "      <td>https://www.athlinks.com/event/35298/results/Event/687430/Course/1111329/Bib/2480</td>\n",
       "    </tr>\n",
       "  </tbody>\n",
       "</table>\n",
       "</div>"
      ],
      "text/plain": [
       "        id  event_id  \\\n",
       "71031   47       154   \n",
       "144943  62       245   \n",
       "286569  41       859   \n",
       "79346   78       158   \n",
       "40476   74       141   \n",
       "\n",
       "                                                                                 racer_url  \n",
       "71031    https://www.athlinks.com/event/34885/results/Event/755516/Course/1284424/Bib/5848  \n",
       "144943  https://www.athlinks.com/event/251739/results/Event/759501/Course/1292280/Bib/1137  \n",
       "286569   https://www.athlinks.com/event/32292/results/Event/850613/Course/1568645/Bib/1431  \n",
       "79346     https://www.athlinks.com/event/34885/results/Event/463397/Course/701295/Bib/8852  \n",
       "40476    https://www.athlinks.com/event/35298/results/Event/687430/Course/1111329/Bib/2480  "
      ]
     },
     "execution_count": 8,
     "metadata": {},
     "output_type": "execute_result"
    }
   ],
   "source": [
    "racer_urls.sample(5)"
   ]
  },
  {
   "cell_type": "code",
   "execution_count": 9,
   "metadata": {},
   "outputs": [
    {
     "data": {
      "text/plain": [
       "300004"
      ]
     },
     "execution_count": 9,
     "metadata": {},
     "output_type": "execute_result"
    }
   ],
   "source": [
    "len(racer_urls)"
   ]
  },
  {
   "cell_type": "markdown",
   "metadata": {},
   "source": [
    "We have parsed <b>300,004</b> racer urls"
   ]
  },
  {
   "cell_type": "code",
   "execution_count": 10,
   "metadata": {},
   "outputs": [],
   "source": [
    "url = racer_urls.sample(1).iloc[0]['racer_url']"
   ]
  },
  {
   "cell_type": "code",
   "execution_count": 11,
   "metadata": {},
   "outputs": [
    {
     "data": {
      "text/plain": [
       "'https://www.athlinks.com/event/35374/results/Event/622463/Course/953986/Bib/2446'"
      ]
     },
     "execution_count": 11,
     "metadata": {},
     "output_type": "execute_result"
    }
   ],
   "source": [
    "url"
   ]
  },
  {
   "cell_type": "code",
   "execution_count": 12,
   "metadata": {},
   "outputs": [],
   "source": [
    "race_data = pd.read_csv('./data/racer_data.csv')"
   ]
  },
  {
   "cell_type": "code",
   "execution_count": 13,
   "metadata": {
    "scrolled": true
   },
   "outputs": [
    {
     "data": {
      "text/html": [
       "<div>\n",
       "<style scoped>\n",
       "    .dataframe tbody tr th:only-of-type {\n",
       "        vertical-align: middle;\n",
       "    }\n",
       "\n",
       "    .dataframe tbody tr th {\n",
       "        vertical-align: top;\n",
       "    }\n",
       "\n",
       "    .dataframe thead th {\n",
       "        text-align: right;\n",
       "    }\n",
       "</style>\n",
       "<table border=\"1\" class=\"dataframe\">\n",
       "  <thead>\n",
       "    <tr style=\"text-align: right;\">\n",
       "      <th></th>\n",
       "      <th>id</th>\n",
       "      <th>event_id</th>\n",
       "      <th>racer_url</th>\n",
       "      <th>event_name</th>\n",
       "      <th>distance</th>\n",
       "      <th>weather</th>\n",
       "      <th>course_name</th>\n",
       "      <th>swim_time</th>\n",
       "      <th>t1</th>\n",
       "      <th>bike_time</th>\n",
       "      <th>t2</th>\n",
       "      <th>run_time</th>\n",
       "      <th>full_time</th>\n",
       "      <th>ageGender</th>\n",
       "      <th>location</th>\n",
       "    </tr>\n",
       "  </thead>\n",
       "  <tbody>\n",
       "    <tr>\n",
       "      <th>4602</th>\n",
       "      <td>25</td>\n",
       "      <td>264</td>\n",
       "      <td>https://www.athlinks.com/event/35374/results/Event/525322/Course/784291/Bib/782</td>\n",
       "      <td>Mooloolaba Triathlon</td>\n",
       "      <td>32.0</td>\n",
       "      <td>WEATHER\\n83°F28°C</td>\n",
       "      <td>Olympic Tri (1500M Swim, 40K Bike, 10K Run)\\nMIKM</td>\n",
       "      <td>29:52</td>\n",
       "      <td>3:09</td>\n",
       "      <td>1:21:48</td>\n",
       "      <td>1:32</td>\n",
       "      <td>46:50</td>\n",
       "      <td>2:43:12</td>\n",
       "      <td>M 35</td>\n",
       "      <td>Mooloolaba, AUS</td>\n",
       "    </tr>\n",
       "    <tr>\n",
       "      <th>1343</th>\n",
       "      <td>53</td>\n",
       "      <td>1376</td>\n",
       "      <td>https://www.athlinks.com/event/171810/results/Event/825736/Course/1461097/Bib/435</td>\n",
       "      <td>ETU Standard Distance Triathlon Qualifier (Draft Illegal) St Neots Triathlons Event 3</td>\n",
       "      <td>32.0</td>\n",
       "      <td>WEATHER\\nNo data available</td>\n",
       "      <td>Olympic Triathlon - 1500M Swim, 40K Bike, 10K Run\\nMIKM</td>\n",
       "      <td>27:54</td>\n",
       "      <td>3:58</td>\n",
       "      <td>1:23:26</td>\n",
       "      <td>1:03</td>\n",
       "      <td>46:22</td>\n",
       "      <td>2:42:45</td>\n",
       "      <td>F 25</td>\n",
       "      <td>St Neots, GBR</td>\n",
       "    </tr>\n",
       "    <tr>\n",
       "      <th>8275</th>\n",
       "      <td>11</td>\n",
       "      <td>781</td>\n",
       "      <td>https://www.athlinks.com/event/38790/results/Event/717766/Course/1176609/Bib/414</td>\n",
       "      <td>Byron Bay Triathlon</td>\n",
       "      <td>32.0</td>\n",
       "      <td>WEATHER\\nNo data available</td>\n",
       "      <td>Olympic Tri (1500M Swim, 40K Bike, 10K Run)\\nMIKM</td>\n",
       "      <td>27:02</td>\n",
       "      <td>NaN</td>\n",
       "      <td>1:14:56</td>\n",
       "      <td>NaN</td>\n",
       "      <td>47:37</td>\n",
       "      <td>2:29:37</td>\n",
       "      <td>M 45</td>\n",
       "      <td>Byron Bay, AUS</td>\n",
       "    </tr>\n",
       "    <tr>\n",
       "      <th>8278</th>\n",
       "      <td>14</td>\n",
       "      <td>781</td>\n",
       "      <td>https://www.athlinks.com/event/38790/results/Event/717766/Course/1176609/Bib/371</td>\n",
       "      <td>Byron Bay Triathlon</td>\n",
       "      <td>32.0</td>\n",
       "      <td>WEATHER\\nNo data available</td>\n",
       "      <td>Olympic Tri (1500M Swim, 40K Bike, 10K Run)\\nMIKM</td>\n",
       "      <td>25:08</td>\n",
       "      <td>NaN</td>\n",
       "      <td>1:15:33</td>\n",
       "      <td>NaN</td>\n",
       "      <td>49:28</td>\n",
       "      <td>2:30:10</td>\n",
       "      <td>M 40</td>\n",
       "      <td>Byron Bay, AUS</td>\n",
       "    </tr>\n",
       "    <tr>\n",
       "      <th>4252</th>\n",
       "      <td>18</td>\n",
       "      <td>264</td>\n",
       "      <td>https://www.athlinks.com/event/35374/results/Event/525322/Course/784291/Bib/834</td>\n",
       "      <td>Mooloolaba Triathlon</td>\n",
       "      <td>32.0</td>\n",
       "      <td>WEATHER\\n83°F28°C</td>\n",
       "      <td>Olympic Tri (1500M Swim, 40K Bike, 10K Run)\\nMIKM</td>\n",
       "      <td>26:34</td>\n",
       "      <td>2:43</td>\n",
       "      <td>1:09:44</td>\n",
       "      <td>1:46</td>\n",
       "      <td>49:47</td>\n",
       "      <td>2:30:36</td>\n",
       "      <td>M 35</td>\n",
       "      <td>Mooloolaba, AUS</td>\n",
       "    </tr>\n",
       "  </tbody>\n",
       "</table>\n",
       "</div>"
      ],
      "text/plain": [
       "      id  event_id  \\\n",
       "4602  25       264   \n",
       "1343  53      1376   \n",
       "8275  11       781   \n",
       "8278  14       781   \n",
       "4252  18       264   \n",
       "\n",
       "                                                                              racer_url  \\\n",
       "4602    https://www.athlinks.com/event/35374/results/Event/525322/Course/784291/Bib/782   \n",
       "1343  https://www.athlinks.com/event/171810/results/Event/825736/Course/1461097/Bib/435   \n",
       "8275   https://www.athlinks.com/event/38790/results/Event/717766/Course/1176609/Bib/414   \n",
       "8278   https://www.athlinks.com/event/38790/results/Event/717766/Course/1176609/Bib/371   \n",
       "4252    https://www.athlinks.com/event/35374/results/Event/525322/Course/784291/Bib/834   \n",
       "\n",
       "                                                                                 event_name  \\\n",
       "4602                                                                   Mooloolaba Triathlon   \n",
       "1343  ETU Standard Distance Triathlon Qualifier (Draft Illegal) St Neots Triathlons Event 3   \n",
       "8275                                                                    Byron Bay Triathlon   \n",
       "8278                                                                    Byron Bay Triathlon   \n",
       "4252                                                                   Mooloolaba Triathlon   \n",
       "\n",
       "      distance                     weather  \\\n",
       "4602      32.0           WEATHER\\n83°F28°C   \n",
       "1343      32.0  WEATHER\\nNo data available   \n",
       "8275      32.0  WEATHER\\nNo data available   \n",
       "8278      32.0  WEATHER\\nNo data available   \n",
       "4252      32.0           WEATHER\\n83°F28°C   \n",
       "\n",
       "                                                  course_name swim_time    t1  \\\n",
       "4602        Olympic Tri (1500M Swim, 40K Bike, 10K Run)\\nMIKM     29:52  3:09   \n",
       "1343  Olympic Triathlon - 1500M Swim, 40K Bike, 10K Run\\nMIKM     27:54  3:58   \n",
       "8275        Olympic Tri (1500M Swim, 40K Bike, 10K Run)\\nMIKM     27:02   NaN   \n",
       "8278        Olympic Tri (1500M Swim, 40K Bike, 10K Run)\\nMIKM     25:08   NaN   \n",
       "4252        Olympic Tri (1500M Swim, 40K Bike, 10K Run)\\nMIKM     26:34  2:43   \n",
       "\n",
       "     bike_time    t2 run_time full_time ageGender         location  \n",
       "4602   1:21:48  1:32    46:50   2:43:12      M 35  Mooloolaba, AUS  \n",
       "1343   1:23:26  1:03    46:22   2:42:45      F 25    St Neots, GBR  \n",
       "8275   1:14:56   NaN    47:37   2:29:37      M 45   Byron Bay, AUS  \n",
       "8278   1:15:33   NaN    49:28   2:30:10      M 40   Byron Bay, AUS  \n",
       "4252   1:09:44  1:46    49:47   2:30:36      M 35  Mooloolaba, AUS  "
      ]
     },
     "execution_count": 13,
     "metadata": {},
     "output_type": "execute_result"
    }
   ],
   "source": [
    "race_data.sample(5)"
   ]
  },
  {
   "cell_type": "markdown",
   "metadata": {},
   "source": [
    "## Train/Test Split"
   ]
  },
  {
   "cell_type": "markdown",
   "metadata": {},
   "source": [
    "First, remove any rows where swim/run/bike time are null (since that's what we're building models to predict). To first convert to seconds, need to standardize column to hh:mm:ss"
   ]
  },
  {
   "cell_type": "code",
   "execution_count": 14,
   "metadata": {},
   "outputs": [],
   "source": [
    "def standardize_time(x):\n",
    "    count = str(x).count(':')\n",
    "    if count == 0:\n",
    "        return f'00:00:{x}'\n",
    "    elif count == 1:\n",
    "        return f'00:{x}'\n",
    "    return x"
   ]
  },
  {
   "cell_type": "code",
   "execution_count": 15,
   "metadata": {},
   "outputs": [],
   "source": [
    "race_data['full_time'] = race_data['full_time'].apply(standardize_time)\n",
    "race_data['swim_time'] = race_data['swim_time'].apply(standardize_time)\n",
    "race_data['run_time'] = race_data['run_time'].apply(standardize_time)\n",
    "race_data['bike_time'] = race_data['bike_time'].apply(standardize_time)"
   ]
  },
  {
   "cell_type": "code",
   "execution_count": 16,
   "metadata": {},
   "outputs": [],
   "source": [
    "race_data['t1'] = race_data['t1'].apply(standardize_time)\n",
    "race_data['t2'] = race_data['t2'].apply(standardize_time)"
   ]
  },
  {
   "cell_type": "code",
   "execution_count": 17,
   "metadata": {},
   "outputs": [],
   "source": [
    "race_data['full_time'] = pd.to_timedelta(race_data['full_time'], errors='coerce')\n",
    "race_data['swim_time'] = pd.to_timedelta(race_data['swim_time'], errors='coerce')\n",
    "race_data['run_time'] = pd.to_timedelta(race_data['run_time'], errors='coerce')\n",
    "race_data['bike_time'] = pd.to_timedelta(race_data['bike_time'], errors='coerce')"
   ]
  },
  {
   "cell_type": "code",
   "execution_count": 18,
   "metadata": {},
   "outputs": [],
   "source": [
    "race_data['t1'] = pd.to_timedelta(race_data['t1'], errors='coerce')\n",
    "race_data['t2'] = pd.to_timedelta(race_data['t2'], errors='coerce')"
   ]
  },
  {
   "cell_type": "markdown",
   "metadata": {},
   "source": [
    "Any rows where we don't have a swim/run/bike time, we remove"
   ]
  },
  {
   "cell_type": "code",
   "execution_count": 19,
   "metadata": {},
   "outputs": [],
   "source": [
    "race_data = race_data.loc[~race_data[['swim_time','run_time','bike_time','full_time']].isnull().any(axis=1)]"
   ]
  },
  {
   "cell_type": "code",
   "execution_count": 20,
   "metadata": {},
   "outputs": [],
   "source": [
    "race_data['full_time_secs'] = race_data['full_time'].dt.total_seconds()\n",
    "race_data['swim_time_secs'] = race_data['swim_time'].dt.total_seconds()\n",
    "race_data['run_time_secs'] = race_data['run_time'].dt.total_seconds()\n",
    "race_data['bike_time_secs'] = race_data['bike_time'].dt.total_seconds()"
   ]
  },
  {
   "cell_type": "code",
   "execution_count": 21,
   "metadata": {},
   "outputs": [],
   "source": [
    "race_data['t1_secs'] = race_data['t1'].dt.total_seconds()\n",
    "race_data['t2_secs'] = race_data['t2'].dt.total_seconds()"
   ]
  },
  {
   "cell_type": "markdown",
   "metadata": {},
   "source": [
    "Finally, train/test split for model building/evaluation"
   ]
  },
  {
   "cell_type": "code",
   "execution_count": 22,
   "metadata": {},
   "outputs": [],
   "source": [
    "train, test = train_test_split(race_data, test_size=0.20, random_state=42)"
   ]
  },
  {
   "cell_type": "markdown",
   "metadata": {},
   "source": [
    "## Inspecting Data"
   ]
  },
  {
   "cell_type": "code",
   "execution_count": 23,
   "metadata": {},
   "outputs": [
    {
     "data": {
      "text/plain": [
       "Index(['id', 'event_id', 'racer_url', 'event_name', 'distance', 'weather',\n",
       "       'course_name', 'swim_time', 't1', 'bike_time', 't2', 'run_time',\n",
       "       'full_time', 'ageGender', 'location', 'full_time_secs',\n",
       "       'swim_time_secs', 'run_time_secs', 'bike_time_secs', 't1_secs',\n",
       "       't2_secs'],\n",
       "      dtype='object')"
      ]
     },
     "execution_count": 23,
     "metadata": {},
     "output_type": "execute_result"
    }
   ],
   "source": [
    "train.columns"
   ]
  },
  {
   "cell_type": "code",
   "execution_count": 24,
   "metadata": {},
   "outputs": [
    {
     "data": {
      "text/plain": [
       "id                   0\n",
       "event_id             0\n",
       "racer_url            0\n",
       "event_name          23\n",
       "distance             2\n",
       "weather              1\n",
       "course_name          0\n",
       "swim_time            0\n",
       "t1                2415\n",
       "bike_time            0\n",
       "t2                2437\n",
       "run_time             0\n",
       "full_time            0\n",
       "ageGender            1\n",
       "location             1\n",
       "full_time_secs       0\n",
       "swim_time_secs       0\n",
       "run_time_secs        0\n",
       "bike_time_secs       0\n",
       "t1_secs           2415\n",
       "t2_secs           2437\n",
       "dtype: int64"
      ]
     },
     "execution_count": 24,
     "metadata": {},
     "output_type": "execute_result"
    }
   ],
   "source": [
    "train.isnull().sum()"
   ]
  },
  {
   "cell_type": "markdown",
   "metadata": {},
   "source": [
    "Observations:\n",
    "* Need to create null flags and impute on some columns\n",
    "* Fair number (~25%) where transition times are missing"
   ]
  },
  {
   "cell_type": "markdown",
   "metadata": {},
   "source": [
    "Too many unavailable data points (>50%) so not worth including"
   ]
  },
  {
   "cell_type": "code",
   "execution_count": 25,
   "metadata": {},
   "outputs": [
    {
     "data": {
      "text/plain": [
       "WEATHER\\nNo data available    4018\n",
       "WEATHER\\n83°F28°C              672\n",
       "WEATHER\\n75°F24°C              424\n",
       "WEATHER\\n88°F31°C              311\n",
       "WEATHER\\n84°F29°C              288\n",
       "WEATHER\\n87°F31°C              250\n",
       "WEATHER\\n81°F27°C              244\n",
       "WEATHER\\n85°F30°C              227\n",
       "WEATHER\\n91°F33°C              217\n",
       "WEATHER\\n67°F19°C              136\n",
       "WEATHER\\n80°F27°C              133\n",
       "WEATHER\\n89°F31°C              122\n",
       "WEATHER\\n104°F40°C             105\n",
       "WEATHER\\n90°F32°C               92\n",
       "WEATHER\\n65°F18°C               86\n",
       "WEATHER\\n60°F15°C               84\n",
       "WEATHER\\n82°F28°C               31\n",
       "WEATHER                          6\n",
       "WEATHER\\n98°F36°C                4\n",
       "Name: weather, dtype: int64"
      ]
     },
     "execution_count": 25,
     "metadata": {},
     "output_type": "execute_result"
    }
   ],
   "source": [
    "train.weather.value_counts()"
   ]
  },
  {
   "cell_type": "markdown",
   "metadata": {},
   "source": [
    "## Cleaning Data"
   ]
  },
  {
   "cell_type": "markdown",
   "metadata": {},
   "source": [
    "Split into separate columns, deal with nulls in general pipeline section"
   ]
  },
  {
   "cell_type": "code",
   "execution_count": 26,
   "metadata": {},
   "outputs": [
    {
     "name": "stderr",
     "output_type": "stream",
     "text": [
      "/Users/jacobgoffin/anaconda3/envs/triathlon/lib/python3.8/site-packages/pandas/core/frame.py:2963: SettingWithCopyWarning: \n",
      "A value is trying to be set on a copy of a slice from a DataFrame.\n",
      "Try using .loc[row_indexer,col_indexer] = value instead\n",
      "\n",
      "See the caveats in the documentation: https://pandas.pydata.org/pandas-docs/stable/user_guide/indexing.html#returning-a-view-versus-a-copy\n",
      "  self[k1] = value[k2]\n"
     ]
    }
   ],
   "source": [
    "train[['gender','age']] = train.ageGender.str.split(expand=True)\n",
    "test[['gender','age']] = test.ageGender.str.split(expand=True)"
   ]
  },
  {
   "cell_type": "code",
   "execution_count": 27,
   "metadata": {},
   "outputs": [
    {
     "data": {
      "text/plain": [
       "M    5311\n",
       "F    2008\n",
       "U     131\n",
       "Name: gender, dtype: int64"
      ]
     },
     "execution_count": 27,
     "metadata": {},
     "output_type": "execute_result"
    }
   ],
   "source": [
    "train.gender.value_counts()"
   ]
  },
  {
   "cell_type": "code",
   "execution_count": 28,
   "metadata": {},
   "outputs": [
    {
     "data": {
      "text/plain": [
       "age       1262\n",
       "gender       1\n",
       "dtype: int64"
      ]
     },
     "execution_count": 28,
     "metadata": {},
     "output_type": "execute_result"
    }
   ],
   "source": [
    "train[['age','gender']].isnull().sum()"
   ]
  },
  {
   "cell_type": "code",
   "execution_count": 29,
   "metadata": {
    "scrolled": true
   },
   "outputs": [
    {
     "name": "stderr",
     "output_type": "stream",
     "text": [
      "<ipython-input-29-08c640e79d95>:1: SettingWithCopyWarning: \n",
      "A value is trying to be set on a copy of a slice from a DataFrame.\n",
      "Try using .loc[row_indexer,col_indexer] = value instead\n",
      "\n",
      "See the caveats in the documentation: https://pandas.pydata.org/pandas-docs/stable/user_guide/indexing.html#returning-a-view-versus-a-copy\n",
      "  train['t1_flag'] = train['t1'].isna().astype('float')\n",
      "<ipython-input-29-08c640e79d95>:2: SettingWithCopyWarning: \n",
      "A value is trying to be set on a copy of a slice from a DataFrame.\n",
      "Try using .loc[row_indexer,col_indexer] = value instead\n",
      "\n",
      "See the caveats in the documentation: https://pandas.pydata.org/pandas-docs/stable/user_guide/indexing.html#returning-a-view-versus-a-copy\n",
      "  train['t2_flag'] = train['t2'].isna().astype('float')\n",
      "<ipython-input-29-08c640e79d95>:3: SettingWithCopyWarning: \n",
      "A value is trying to be set on a copy of a slice from a DataFrame.\n",
      "Try using .loc[row_indexer,col_indexer] = value instead\n",
      "\n",
      "See the caveats in the documentation: https://pandas.pydata.org/pandas-docs/stable/user_guide/indexing.html#returning-a-view-versus-a-copy\n",
      "  test['t1_flag'] = test['t1'].isna().astype('float')\n",
      "<ipython-input-29-08c640e79d95>:4: SettingWithCopyWarning: \n",
      "A value is trying to be set on a copy of a slice from a DataFrame.\n",
      "Try using .loc[row_indexer,col_indexer] = value instead\n",
      "\n",
      "See the caveats in the documentation: https://pandas.pydata.org/pandas-docs/stable/user_guide/indexing.html#returning-a-view-versus-a-copy\n",
      "  test['t2_flag'] = test['t2'].isna().astype('float')\n"
     ]
    }
   ],
   "source": [
    "train['t1_flag'] = train['t1'].isna().astype('float')\n",
    "train['t2_flag'] = train['t2'].isna().astype('float')\n",
    "test['t1_flag'] = test['t1'].isna().astype('float')\n",
    "test['t2_flag'] = test['t2'].isna().astype('float')"
   ]
  },
  {
   "cell_type": "code",
   "execution_count": 30,
   "metadata": {},
   "outputs": [
    {
     "name": "stderr",
     "output_type": "stream",
     "text": [
      "<ipython-input-30-8c0b6070a8e0>:1: SettingWithCopyWarning: \n",
      "A value is trying to be set on a copy of a slice from a DataFrame.\n",
      "Try using .loc[row_indexer,col_indexer] = value instead\n",
      "\n",
      "See the caveats in the documentation: https://pandas.pydata.org/pandas-docs/stable/user_guide/indexing.html#returning-a-view-versus-a-copy\n",
      "  train['age_flag'] = train['age'].isna().astype('float')\n",
      "<ipython-input-30-8c0b6070a8e0>:2: SettingWithCopyWarning: \n",
      "A value is trying to be set on a copy of a slice from a DataFrame.\n",
      "Try using .loc[row_indexer,col_indexer] = value instead\n",
      "\n",
      "See the caveats in the documentation: https://pandas.pydata.org/pandas-docs/stable/user_guide/indexing.html#returning-a-view-versus-a-copy\n",
      "  test['age_flag'] = test['age'].isna().astype('float')\n"
     ]
    }
   ],
   "source": [
    "train['age_flag'] = train['age'].isna().astype('float')\n",
    "test['age_flag'] = test['age'].isna().astype('float')"
   ]
  },
  {
   "cell_type": "code",
   "execution_count": 31,
   "metadata": {},
   "outputs": [
    {
     "name": "stderr",
     "output_type": "stream",
     "text": [
      "/Users/jacobgoffin/anaconda3/envs/triathlon/lib/python3.8/site-packages/pandas/core/indexing.py:966: SettingWithCopyWarning: \n",
      "A value is trying to be set on a copy of a slice from a DataFrame.\n",
      "Try using .loc[row_indexer,col_indexer] = value instead\n",
      "\n",
      "See the caveats in the documentation: https://pandas.pydata.org/pandas-docs/stable/user_guide/indexing.html#returning-a-view-versus-a-copy\n",
      "  self.obj[item] = s\n"
     ]
    }
   ],
   "source": [
    "train.loc[train.gender.isnull(), 'gender'] = 'U'\n",
    "test.loc[test.gender.isnull(), 'gender'] = 'U'"
   ]
  },
  {
   "cell_type": "code",
   "execution_count": 32,
   "metadata": {
    "scrolled": true
   },
   "outputs": [
    {
     "data": {
      "text/plain": [
       "id                   0\n",
       "event_id             0\n",
       "racer_url            0\n",
       "event_name          23\n",
       "distance             2\n",
       "weather              1\n",
       "course_name          0\n",
       "swim_time            0\n",
       "t1                2415\n",
       "bike_time            0\n",
       "t2                2437\n",
       "run_time             0\n",
       "full_time            0\n",
       "ageGender            1\n",
       "location             1\n",
       "full_time_secs       0\n",
       "swim_time_secs       0\n",
       "run_time_secs        0\n",
       "bike_time_secs       0\n",
       "t1_secs           2415\n",
       "t2_secs           2437\n",
       "gender               0\n",
       "age               1262\n",
       "t1_flag              0\n",
       "t2_flag              0\n",
       "age_flag             0\n",
       "dtype: int64"
      ]
     },
     "execution_count": 32,
     "metadata": {},
     "output_type": "execute_result"
    }
   ],
   "source": [
    "train.isnull().sum()"
   ]
  },
  {
   "cell_type": "code",
   "execution_count": 33,
   "metadata": {},
   "outputs": [],
   "source": [
    "corrMatrix = train[['full_time_secs','swim_time_secs', 'run_time_secs',\n",
    "                    'bike_time_secs', 't1_secs','t2_secs','age']].corr()"
   ]
  },
  {
   "cell_type": "code",
   "execution_count": 34,
   "metadata": {},
   "outputs": [
    {
     "data": {
      "image/png": "[encoded data removed]",
      "text/plain": [
       "<Figure size 864x432 with 2 Axes>"
      ]
     },
     "metadata": {
      "needs_background": "light"
     },
     "output_type": "display_data"
    }
   ],
   "source": [
    "plt.figure(figsize=(12,6))\n",
    "corrPlot = sn.heatmap(corrMatrix, annot=True)"
   ]
  },
  {
   "cell_type": "markdown",
   "metadata": {},
   "source": [
    "Notes:\n",
    "* Run & bike are more correlated with full time than swim (since they take longer). \n",
    "* Transition times not very correlated with full time (so don't seem worth keeping, can also be course dependent)\n"
   ]
  },
  {
   "cell_type": "markdown",
   "metadata": {},
   "source": [
    "<h3> Looking for outliers </h3>"
   ]
  },
  {
   "cell_type": "code",
   "execution_count": 35,
   "metadata": {},
   "outputs": [
    {
     "data": {
      "text/html": [
       "<div>\n",
       "<style scoped>\n",
       "    .dataframe tbody tr th:only-of-type {\n",
       "        vertical-align: middle;\n",
       "    }\n",
       "\n",
       "    .dataframe tbody tr th {\n",
       "        vertical-align: top;\n",
       "    }\n",
       "\n",
       "    .dataframe thead th {\n",
       "        text-align: right;\n",
       "    }\n",
       "</style>\n",
       "<table border=\"1\" class=\"dataframe\">\n",
       "  <thead>\n",
       "    <tr style=\"text-align: right;\">\n",
       "      <th></th>\n",
       "      <th>swim_time</th>\n",
       "      <th>run_time</th>\n",
       "      <th>bike_time</th>\n",
       "      <th>t1</th>\n",
       "      <th>t2</th>\n",
       "    </tr>\n",
       "  </thead>\n",
       "  <tbody>\n",
       "    <tr>\n",
       "      <th>count</th>\n",
       "      <td>7451</td>\n",
       "      <td>7451</td>\n",
       "      <td>7451</td>\n",
       "      <td>5036</td>\n",
       "      <td>5014</td>\n",
       "    </tr>\n",
       "    <tr>\n",
       "      <th>mean</th>\n",
       "      <td>0 days 00:30:52.025634</td>\n",
       "      <td>0 days 00:53:45.592537</td>\n",
       "      <td>0 days 01:18:03.635485</td>\n",
       "      <td>0 days 00:02:48.347696</td>\n",
       "      <td>0 days 00:01:52.963502</td>\n",
       "    </tr>\n",
       "    <tr>\n",
       "      <th>std</th>\n",
       "      <td>0 days 00:07:56.683810</td>\n",
       "      <td>0 days 00:12:21.652996</td>\n",
       "      <td>0 days 00:12:09.483638</td>\n",
       "      <td>0 days 00:01:53.927284</td>\n",
       "      <td>0 days 00:02:13.622439</td>\n",
       "    </tr>\n",
       "    <tr>\n",
       "      <th>min</th>\n",
       "      <td>0 days 00:00:14</td>\n",
       "      <td>0 days 00:03:39</td>\n",
       "      <td>0 days 00:00:16</td>\n",
       "      <td>0 days 00:00:03</td>\n",
       "      <td>0 days 00:00:24</td>\n",
       "    </tr>\n",
       "    <tr>\n",
       "      <th>25%</th>\n",
       "      <td>0 days 00:26:01</td>\n",
       "      <td>0 days 00:45:36</td>\n",
       "      <td>0 days 01:09:48</td>\n",
       "      <td>0 days 00:01:41</td>\n",
       "      <td>0 days 00:01:10</td>\n",
       "    </tr>\n",
       "    <tr>\n",
       "      <th>50%</th>\n",
       "      <td>0 days 00:30:05</td>\n",
       "      <td>0 days 00:51:31</td>\n",
       "      <td>0 days 01:16:12</td>\n",
       "      <td>0 days 00:02:22</td>\n",
       "      <td>0 days 00:01:35</td>\n",
       "    </tr>\n",
       "    <tr>\n",
       "      <th>75%</th>\n",
       "      <td>0 days 00:35:06</td>\n",
       "      <td>0 days 00:59:01</td>\n",
       "      <td>0 days 01:24:32</td>\n",
       "      <td>0 days 00:03:22.250000</td>\n",
       "      <td>0 days 00:02:13</td>\n",
       "    </tr>\n",
       "    <tr>\n",
       "      <th>max</th>\n",
       "      <td>0 days 01:56:33</td>\n",
       "      <td>0 days 02:21:51</td>\n",
       "      <td>0 days 02:57:29</td>\n",
       "      <td>0 days 00:36:24</td>\n",
       "      <td>0 days 01:24:33</td>\n",
       "    </tr>\n",
       "  </tbody>\n",
       "</table>\n",
       "</div>"
      ],
      "text/plain": [
       "                    swim_time                run_time               bike_time  \\\n",
       "count                    7451                    7451                    7451   \n",
       "mean   0 days 00:30:52.025634  0 days 00:53:45.592537  0 days 01:18:03.635485   \n",
       "std    0 days 00:07:56.683810  0 days 00:12:21.652996  0 days 00:12:09.483638   \n",
       "min           0 days 00:00:14         0 days 00:03:39         0 days 00:00:16   \n",
       "25%           0 days 00:26:01         0 days 00:45:36         0 days 01:09:48   \n",
       "50%           0 days 00:30:05         0 days 00:51:31         0 days 01:16:12   \n",
       "75%           0 days 00:35:06         0 days 00:59:01         0 days 01:24:32   \n",
       "max           0 days 01:56:33         0 days 02:21:51         0 days 02:57:29   \n",
       "\n",
       "                           t1                      t2  \n",
       "count                    5036                    5014  \n",
       "mean   0 days 00:02:48.347696  0 days 00:01:52.963502  \n",
       "std    0 days 00:01:53.927284  0 days 00:02:13.622439  \n",
       "min           0 days 00:00:03         0 days 00:00:24  \n",
       "25%           0 days 00:01:41         0 days 00:01:10  \n",
       "50%           0 days 00:02:22         0 days 00:01:35  \n",
       "75%    0 days 00:03:22.250000         0 days 00:02:13  \n",
       "max           0 days 00:36:24         0 days 01:24:33  "
      ]
     },
     "execution_count": 35,
     "metadata": {},
     "output_type": "execute_result"
    }
   ],
   "source": [
    "train[['swim_time','run_time','bike_time','t1','t2']].describe()"
   ]
  },
  {
   "cell_type": "markdown",
   "metadata": {},
   "source": [
    "Notes:\n",
    "* Swim-cutoff: 1 hour\n",
    "* Bike-cutoff: 3 hours\n",
    "* Run-cutoff: 2 hours"
   ]
  },
  {
   "cell_type": "code",
   "execution_count": 36,
   "metadata": {},
   "outputs": [],
   "source": [
    "train_filtered = train.loc[(train.swim_time_secs <= 3600) \n",
    "                           & (train.bike_time_secs <= 10800)\n",
    "                           & (train.swim_time_secs <= 7200)]\n",
    "test_filtered = test.loc[(test.swim_time_secs <= 3600) \n",
    "                           & (test.bike_time_secs <= 10800)\n",
    "                           & (test.swim_time_secs <= 7200)]"
   ]
  },
  {
   "cell_type": "markdown",
   "metadata": {},
   "source": [
    "## Pipeline"
   ]
  },
  {
   "cell_type": "code",
   "execution_count": 37,
   "metadata": {},
   "outputs": [],
   "source": [
    "relevant_columns = ['swim_time_secs','bike_time_secs','run_time_secs','age','gender','age_flag',\n",
    "                    't1_secs','t2_secs','t1_flag','t2_flag']\n",
    "train_relevant = train_filtered[relevant_columns]\n",
    "test_relevant = test_filtered[relevant_columns]"
   ]
  },
  {
   "cell_type": "code",
   "execution_count": 38,
   "metadata": {},
   "outputs": [],
   "source": [
    "X_train, y_train = train_relevant.drop(columns=['swim_time_secs']), train_relevant['swim_time_secs']\n",
    "X_test, y_test = test_relevant.drop(columns=['swim_time_secs']), test_relevant['swim_time_secs']"
   ]
  },
  {
   "cell_type": "code",
   "execution_count": null,
   "metadata": {},
   "outputs": [],
   "source": []
  },
  {
   "cell_type": "code",
   "execution_count": 39,
   "metadata": {},
   "outputs": [],
   "source": [
    "def make_pipeline(regressor=None, scaled=False):\n",
    "    \"\"\"\n",
    "    Create a single pipeline that processes the data and then fits the regressor\n",
    "    \"\"\"\n",
    "\n",
    "    continuous_var = ['bike_time_secs','run_time_secs','age','t1_secs','t2_secs',]\n",
    "    categorical_var = ['gender',]\n",
    "    boolean_var = ['age_flag','t1_flag', 't2_flag',]\n",
    "\n",
    "    if scaled:\n",
    "        continuous_transformer = Pipeline(steps=[\n",
    "            ('imputer', impute.SimpleImputer(strategy='median')),\n",
    "            ('normalize', preprocessing.StandardScaler())\n",
    "        ])\n",
    "    else:\n",
    "        continuous_transformer = Pipeline(steps=[\n",
    "            ('imputer', impute.SimpleImputer(strategy='median'))\n",
    "        ])\n",
    "\n",
    "    categorical_transformer = Pipeline(steps=[\n",
    "        ('imputer', impute.SimpleImputer(strategy='most_frequent')),\n",
    "        ('encoder', preprocessing.OneHotEncoder(handle_unknown='ignore'))\n",
    "    ])\n",
    "\n",
    "    preprocessor = compose.ColumnTransformer(\n",
    "        transformers=[\n",
    "            ('continuous_var', continuous_transformer, continuous_var),\n",
    "            ('categorical_var', categorical_transformer, categorical_var),\n",
    "            ('boolean_var', 'passthrough', boolean_var)\n",
    "        ])\n",
    "\n",
    "    pipeline = Pipeline(steps=[('preprocessor', preprocessor),\n",
    "                               ('regressor', regressor)])\n",
    "\n",
    "    return pipeline"
   ]
  },
  {
   "cell_type": "markdown",
   "metadata": {},
   "source": [
    "## Cross-Validate"
   ]
  },
  {
   "cell_type": "markdown",
   "metadata": {},
   "source": [
    "Using Median Absolute Error (MAE) as a scoring criteria. Easier to interpret in the context of triathlon race times"
   ]
  },
  {
   "cell_type": "code",
   "execution_count": 40,
   "metadata": {},
   "outputs": [],
   "source": [
    "lr_model = LinearRegression(fit_intercept=True, normalize=False)\n",
    "lr_pipeline = make_pipeline(lr_model, scaled=True)"
   ]
  },
  {
   "cell_type": "code",
   "execution_count": 41,
   "metadata": {},
   "outputs": [
    {
     "data": {
      "text/plain": [
       "array([-224.65197853, -225.50492746, -231.8811548 , -216.92079579,\n",
       "       -229.58566498])"
      ]
     },
     "execution_count": 41,
     "metadata": {},
     "output_type": "execute_result"
    }
   ],
   "source": [
    "k_fold = KFold(n_splits=5)\n",
    "cross_val_score(lr_pipeline,\n",
    "                X_train,\n",
    "                y_train,\n",
    "                scoring='neg_median_absolute_error',\n",
    "                cv=k_fold,)"
   ]
  },
  {
   "cell_type": "code",
   "execution_count": 42,
   "metadata": {},
   "outputs": [],
   "source": [
    "rf_model = RandomForestRegressor(n_estimators=100)\n",
    "rf_pipeline = make_pipeline(rf_model, scaled=False)"
   ]
  },
  {
   "cell_type": "code",
   "execution_count": 43,
   "metadata": {},
   "outputs": [
    {
     "data": {
      "text/plain": [
       "array([-205.37 , -208.77 , -211.48 , -204.685, -212.395])"
      ]
     },
     "execution_count": 43,
     "metadata": {},
     "output_type": "execute_result"
    }
   ],
   "source": [
    "k_fold = KFold(n_splits=5)\n",
    "cross_val_score(rf_pipeline,\n",
    "                X_train,\n",
    "                y_train,\n",
    "                scoring='neg_median_absolute_error',\n",
    "                cv=k_fold,)"
   ]
  },
  {
   "cell_type": "markdown",
   "metadata": {},
   "source": [
    "Notes:\n",
    "* Basic RF does improve on a baseline linear regression model\n",
    "* Achieving around ~3mins 20secs median error for swim time (~10% error)"
   ]
  },
  {
   "cell_type": "code",
   "execution_count": 44,
   "metadata": {},
   "outputs": [
    {
     "data": {
      "text/plain": [
       "1802.5"
      ]
     },
     "execution_count": 44,
     "metadata": {},
     "output_type": "execute_result"
    }
   ],
   "source": [
    "y_train.median()"
   ]
  },
  {
   "cell_type": "markdown",
   "metadata": {},
   "source": [
    "## Final Model"
   ]
  },
  {
   "cell_type": "code",
   "execution_count": 45,
   "metadata": {
    "scrolled": true
   },
   "outputs": [
    {
     "data": {
      "text/plain": [
       "Pipeline(steps=[('preprocessor',\n",
       "                 ColumnTransformer(transformers=[('continuous_var',\n",
       "                                                  Pipeline(steps=[('imputer',\n",
       "                                                                   SimpleImputer(strategy='median'))]),\n",
       "                                                  ['bike_time_secs',\n",
       "                                                   'run_time_secs', 'age',\n",
       "                                                   't1_secs', 't2_secs']),\n",
       "                                                 ('categorical_var',\n",
       "                                                  Pipeline(steps=[('imputer',\n",
       "                                                                   SimpleImputer(strategy='most_frequent')),\n",
       "                                                                  ('encoder',\n",
       "                                                                   OneHotEncoder(handle_unknown='ignore'))]),\n",
       "                                                  ['gender']),\n",
       "                                                 ('boolean_var', 'passthrough',\n",
       "                                                  ['age_flag', 't1_flag',\n",
       "                                                   't2_flag'])])),\n",
       "                ('regressor', RandomForestRegressor())])"
      ]
     },
     "execution_count": 45,
     "metadata": {},
     "output_type": "execute_result"
    }
   ],
   "source": [
    "rf_pipeline.fit(X_train, y_train)"
   ]
  },
  {
   "cell_type": "code",
   "execution_count": 46,
   "metadata": {},
   "outputs": [],
   "source": [
    "test_predictions = rf_pipeline.predict(X_test)"
   ]
  },
  {
   "cell_type": "code",
   "execution_count": 47,
   "metadata": {},
   "outputs": [
    {
     "data": {
      "text/plain": [
       "200.88999999999987"
      ]
     },
     "execution_count": 47,
     "metadata": {},
     "output_type": "execute_result"
    }
   ],
   "source": [
    "median_absolute_error(y_true=y_test, y_pred=test_predictions)"
   ]
  },
  {
   "cell_type": "code",
   "execution_count": 48,
   "metadata": {},
   "outputs": [
    {
     "data": {
      "text/plain": [
       "Pipeline(steps=[('preprocessor',\n",
       "                 ColumnTransformer(transformers=[('continuous_var',\n",
       "                                                  Pipeline(steps=[('imputer',\n",
       "                                                                   SimpleImputer(strategy='median'))]),\n",
       "                                                  ['bike_time_secs',\n",
       "                                                   'run_time_secs', 'age',\n",
       "                                                   't1_secs', 't2_secs']),\n",
       "                                                 ('categorical_var',\n",
       "                                                  Pipeline(steps=[('imputer',\n",
       "                                                                   SimpleImputer(strategy='most_frequent')),\n",
       "                                                                  ('encoder',\n",
       "                                                                   OneHotEncoder(handle_unknown='ignore'))]),\n",
       "                                                  ['gender']),\n",
       "                                                 ('boolean_var', 'passthrough',\n",
       "                                                  ['age_flag', 't1_flag',\n",
       "                                                   't2_flag'])])),\n",
       "                ('regressor', RandomForestRegressor())])"
      ]
     },
     "execution_count": 48,
     "metadata": {},
     "output_type": "execute_result"
    }
   ],
   "source": [
    "rf_pipeline.fit(pd.concat([X_train, X_test]), pd.concat([y_train, y_test]))"
   ]
  },
  {
   "cell_type": "code",
   "execution_count": 56,
   "metadata": {},
   "outputs": [],
   "source": [
    "observation = pd.DataFrame({'bike_time_secs': 7200, 'run_time_secs': 2700, 'age': 28, 'gender': 'U',\n",
    "                            'age_flag': 1, 't1_secs': 0, 't2_secs': 0, 't1_flag': 1, 't2_flag': 1}\n",
    "                          , index=[0])"
   ]
  },
  {
   "cell_type": "code",
   "execution_count": null,
   "metadata": {},
   "outputs": [],
   "source": []
  },
  {
   "cell_type": "code",
   "execution_count": 50,
   "metadata": {},
   "outputs": [],
   "source": [
    "pickle.dump(rf_pipeline, open('rf_pipeline.pkl', 'wb'))"
   ]
  },
  {
   "cell_type": "code",
   "execution_count": 51,
   "metadata": {},
   "outputs": [],
   "source": [
    "loaded_rf_pipeline = pickle.load(open('rf_pipeline.pkl','rb'))"
   ]
  },
  {
   "cell_type": "code",
   "execution_count": 57,
   "metadata": {},
   "outputs": [
    {
     "data": {
      "text/plain": [
       "array([460.64])"
      ]
     },
     "execution_count": 57,
     "metadata": {},
     "output_type": "execute_result"
    }
   ],
   "source": [
    "loaded_rf_pipeline.predict(observation)"
   ]
  },
  {
   "cell_type": "code",
   "execution_count": 53,
   "metadata": {},
   "outputs": [
    {
     "data": {
      "text/plain": [
       "Index(['bike_time_secs', 'run_time_secs', 'age', 'gender', 'age_flag',\n",
       "       't1_secs', 't2_secs', 't1_flag', 't2_flag'],\n",
       "      dtype='object')"
      ]
     },
     "execution_count": 53,
     "metadata": {},
     "output_type": "execute_result"
    }
   ],
   "source": [
    "X_test.columns"
   ]
  },
  {
   "cell_type": "code",
   "execution_count": 54,
   "metadata": {},
   "outputs": [],
   "source": [
    "observation = pd.DataFrame([[3600, 3000, 34, 'M', 1.0, 60, 60, 0.0, 0.0]],columns=['bike_time_secs', 'run_time_secs', 'age', 'gender', 'age_flag',\n",
    "       't1_secs', 't2_secs', 't1_flag', 't2_flag'])"
   ]
  },
  {
   "cell_type": "code",
   "execution_count": 55,
   "metadata": {},
   "outputs": [
    {
     "data": {
      "text/plain": [
       "array([1587.59])"
      ]
     },
     "execution_count": 55,
     "metadata": {},
     "output_type": "execute_result"
    }
   ],
   "source": [
    "loaded_rf_pipeline.predict(observation)"
   ]
  },
  {
   "cell_type": "code",
   "execution_count": null,
   "metadata": {},
   "outputs": [],
   "source": []
  }
 ],
 "metadata": {
  "kernelspec": {
   "display_name": "Python 3",
   "language": "python",
   "name": "python3"
  },
  "language_info": {
   "codemirror_mode": {
    "name": "ipython",
    "version": 3
   },
   "file_extension": ".py",
   "mimetype": "text/x-python",
   "name": "python",
   "nbconvert_exporter": "python",
   "pygments_lexer": "ipython3",
   "version": "3.8.2"
  }
 },
 "nbformat": 4,
 "nbformat_minor": 2
}
