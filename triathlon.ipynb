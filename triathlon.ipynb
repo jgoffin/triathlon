{
 "cells": [
  {
   "cell_type": "markdown",
   "metadata": {},
   "source": [
    "## Libraries/Settings"
   ]
  },
  {
   "cell_type": "code",
   "execution_count": 355,
   "metadata": {},
   "outputs": [],
   "source": [
    "import pandas as pd\n",
    "import time\n",
    "import random\n",
    "\n",
    "import seaborn as sn\n",
    "import matplotlib.pyplot as plt\n",
    "\n",
    "from sklearn.model_selection import train_test_split\n",
    "\n",
    "from sklearn.pipeline import Pipeline\n",
    "from sklearn import impute\n",
    "from sklearn import preprocessing\n",
    "from sklearn import compose\n",
    "\n",
    "from sklearn.model_selection import KFold\n",
    "from sklearn.model_selection import cross_val_score, cross_validate\n",
    "from sklearn.metrics import median_absolute_error\n",
    "\n",
    "from sklearn.linear_model import LinearRegression\n",
    "from sklearn.ensemble import RandomForestRegressor\n",
    "\n",
    "import pickle"
   ]
  },
  {
   "cell_type": "code",
   "execution_count": 15,
   "metadata": {},
   "outputs": [],
   "source": [
    "pd.set_option('display.max_colwidth', 150)\n",
    "pd.set_option('display.max_columns', None)"
   ]
  },
  {
   "cell_type": "markdown",
   "metadata": {},
   "source": [
    "## Acquiring Data"
   ]
  },
  {
   "cell_type": "code",
   "execution_count": 3,
   "metadata": {},
   "outputs": [],
   "source": [
    "event_urls =  pd.read_csv('data/event_urls.csv')"
   ]
  },
  {
   "cell_type": "markdown",
   "metadata": {},
   "source": [
    "We have parsed <b>3169</b> event urls"
   ]
  },
  {
   "cell_type": "code",
   "execution_count": 4,
   "metadata": {},
   "outputs": [
    {
     "data": {
      "text/html": [
       "<div>\n",
       "<style scoped>\n",
       "    .dataframe tbody tr th:only-of-type {\n",
       "        vertical-align: middle;\n",
       "    }\n",
       "\n",
       "    .dataframe tbody tr th {\n",
       "        vertical-align: top;\n",
       "    }\n",
       "\n",
       "    .dataframe thead th {\n",
       "        text-align: right;\n",
       "    }\n",
       "</style>\n",
       "<table border=\"1\" class=\"dataframe\">\n",
       "  <thead>\n",
       "    <tr style=\"text-align: right;\">\n",
       "      <th></th>\n",
       "      <th>id</th>\n",
       "      <th>url</th>\n",
       "    </tr>\n",
       "  </thead>\n",
       "  <tbody>\n",
       "    <tr>\n",
       "      <th>0</th>\n",
       "      <td>0</td>\n",
       "      <td>https://www.athlinks.com/event/30595/results/Event/854628/Results</td>\n",
       "    </tr>\n",
       "    <tr>\n",
       "      <th>1</th>\n",
       "      <td>1</td>\n",
       "      <td>https://www.athlinks.com/event/30595/results/Event/683739/Results</td>\n",
       "    </tr>\n",
       "    <tr>\n",
       "      <th>2</th>\n",
       "      <td>2</td>\n",
       "      <td>https://www.athlinks.com/event/30595/results/Event/635676/Results</td>\n",
       "    </tr>\n",
       "    <tr>\n",
       "      <th>3</th>\n",
       "      <td>3</td>\n",
       "      <td>https://www.athlinks.com/event/30595/results/Event/536470/Results</td>\n",
       "    </tr>\n",
       "    <tr>\n",
       "      <th>4</th>\n",
       "      <td>4</td>\n",
       "      <td>https://www.athlinks.com/event/30595/results/Event/438926/Results</td>\n",
       "    </tr>\n",
       "  </tbody>\n",
       "</table>\n",
       "</div>"
      ],
      "text/plain": [
       "   id                                                                url\n",
       "0   0  https://www.athlinks.com/event/30595/results/Event/854628/Results\n",
       "1   1  https://www.athlinks.com/event/30595/results/Event/683739/Results\n",
       "2   2  https://www.athlinks.com/event/30595/results/Event/635676/Results\n",
       "3   3  https://www.athlinks.com/event/30595/results/Event/536470/Results\n",
       "4   4  https://www.athlinks.com/event/30595/results/Event/438926/Results"
      ]
     },
     "execution_count": 4,
     "metadata": {},
     "output_type": "execute_result"
    }
   ],
   "source": [
    "event_urls.head()"
   ]
  },
  {
   "cell_type": "code",
   "execution_count": 5,
   "metadata": {},
   "outputs": [
    {
     "data": {
      "text/plain": [
       "3169"
      ]
     },
     "execution_count": 5,
     "metadata": {},
     "output_type": "execute_result"
    }
   ],
   "source": [
    "len(event_urls)"
   ]
  },
  {
   "cell_type": "code",
   "execution_count": 6,
   "metadata": {},
   "outputs": [],
   "source": [
    "# ! awk '(NR == 1) || (FNR > 1)' ./racer_url_files/*.csv > racer_urls.csv"
   ]
  },
  {
   "cell_type": "code",
   "execution_count": 7,
   "metadata": {},
   "outputs": [],
   "source": [
    "racer_urls = pd.read_csv('data/racer_urls.csv')"
   ]
  },
  {
   "cell_type": "code",
   "execution_count": 8,
   "metadata": {},
   "outputs": [
    {
     "data": {
      "text/html": [
       "<div>\n",
       "<style scoped>\n",
       "    .dataframe tbody tr th:only-of-type {\n",
       "        vertical-align: middle;\n",
       "    }\n",
       "\n",
       "    .dataframe tbody tr th {\n",
       "        vertical-align: top;\n",
       "    }\n",
       "\n",
       "    .dataframe thead th {\n",
       "        text-align: right;\n",
       "    }\n",
       "</style>\n",
       "<table border=\"1\" class=\"dataframe\">\n",
       "  <thead>\n",
       "    <tr style=\"text-align: right;\">\n",
       "      <th></th>\n",
       "      <th>id</th>\n",
       "      <th>event_id</th>\n",
       "      <th>racer_url</th>\n",
       "    </tr>\n",
       "  </thead>\n",
       "  <tbody>\n",
       "    <tr>\n",
       "      <th>72123</th>\n",
       "      <td>17</td>\n",
       "      <td>1557</td>\n",
       "      <td>https://www.athlinks.com/event/30994/results/Event/517912/Course/960331/Bib/332</td>\n",
       "    </tr>\n",
       "    <tr>\n",
       "      <th>289657</th>\n",
       "      <td>46</td>\n",
       "      <td>891</td>\n",
       "      <td>https://www.athlinks.com/event/45605/results/Event/499453/Course/742689/Bib/648</td>\n",
       "    </tr>\n",
       "    <tr>\n",
       "      <th>219897</th>\n",
       "      <td>44</td>\n",
       "      <td>452</td>\n",
       "      <td>https://www.athlinks.com/event/140784/results/Event/786148/Course/1358690/Bib/1303</td>\n",
       "    </tr>\n",
       "    <tr>\n",
       "      <th>90609</th>\n",
       "      <td>25</td>\n",
       "      <td>163</td>\n",
       "      <td>https://www.athlinks.com/event/213232/results/Event/667263/Course/1051848/Bib/1220</td>\n",
       "    </tr>\n",
       "    <tr>\n",
       "      <th>246337</th>\n",
       "      <td>2</td>\n",
       "      <td>548</td>\n",
       "      <td>https://www.athlinks.com/event/302624/results/Event/827697/Course/1468545/Bib/30</td>\n",
       "    </tr>\n",
       "  </tbody>\n",
       "</table>\n",
       "</div>"
      ],
      "text/plain": [
       "        id  event_id  \\\n",
       "72123   17      1557   \n",
       "289657  46       891   \n",
       "219897  44       452   \n",
       "90609   25       163   \n",
       "246337   2       548   \n",
       "\n",
       "                                                                                 racer_url  \n",
       "72123      https://www.athlinks.com/event/30994/results/Event/517912/Course/960331/Bib/332  \n",
       "289657     https://www.athlinks.com/event/45605/results/Event/499453/Course/742689/Bib/648  \n",
       "219897  https://www.athlinks.com/event/140784/results/Event/786148/Course/1358690/Bib/1303  \n",
       "90609   https://www.athlinks.com/event/213232/results/Event/667263/Course/1051848/Bib/1220  \n",
       "246337    https://www.athlinks.com/event/302624/results/Event/827697/Course/1468545/Bib/30  "
      ]
     },
     "execution_count": 8,
     "metadata": {},
     "output_type": "execute_result"
    }
   ],
   "source": [
    "racer_urls.sample(5)"
   ]
  },
  {
   "cell_type": "code",
   "execution_count": 9,
   "metadata": {},
   "outputs": [
    {
     "data": {
      "text/plain": [
       "300004"
      ]
     },
     "execution_count": 9,
     "metadata": {},
     "output_type": "execute_result"
    }
   ],
   "source": [
    "len(racer_urls)"
   ]
  },
  {
   "cell_type": "markdown",
   "metadata": {},
   "source": [
    "We have parsed <b>300,004</b> racer urls"
   ]
  },
  {
   "cell_type": "code",
   "execution_count": 10,
   "metadata": {},
   "outputs": [],
   "source": [
    "url = racer_urls.sample(1).iloc[0]['racer_url']"
   ]
  },
  {
   "cell_type": "code",
   "execution_count": 11,
   "metadata": {},
   "outputs": [
    {
     "data": {
      "text/plain": [
       "'https://www.athlinks.com/event/32206/results/Event/544884/Course/781013/Bib/101'"
      ]
     },
     "execution_count": 11,
     "metadata": {},
     "output_type": "execute_result"
    }
   ],
   "source": [
    "url"
   ]
  },
  {
   "cell_type": "code",
   "execution_count": 256,
   "metadata": {},
   "outputs": [],
   "source": [
    "race_data = pd.read_csv('./data/racer_data.csv')"
   ]
  },
  {
   "cell_type": "code",
   "execution_count": 257,
   "metadata": {
    "scrolled": true
   },
   "outputs": [
    {
     "data": {
      "text/html": [
       "<div>\n",
       "<style scoped>\n",
       "    .dataframe tbody tr th:only-of-type {\n",
       "        vertical-align: middle;\n",
       "    }\n",
       "\n",
       "    .dataframe tbody tr th {\n",
       "        vertical-align: top;\n",
       "    }\n",
       "\n",
       "    .dataframe thead th {\n",
       "        text-align: right;\n",
       "    }\n",
       "</style>\n",
       "<table border=\"1\" class=\"dataframe\">\n",
       "  <thead>\n",
       "    <tr style=\"text-align: right;\">\n",
       "      <th></th>\n",
       "      <th>id</th>\n",
       "      <th>event_id</th>\n",
       "      <th>racer_url</th>\n",
       "      <th>event_name</th>\n",
       "      <th>distance</th>\n",
       "      <th>weather</th>\n",
       "      <th>course_name</th>\n",
       "      <th>swim_time</th>\n",
       "      <th>t1</th>\n",
       "      <th>bike_time</th>\n",
       "      <th>t2</th>\n",
       "      <th>run_time</th>\n",
       "      <th>full_time</th>\n",
       "      <th>ageGender</th>\n",
       "      <th>location</th>\n",
       "    </tr>\n",
       "  </thead>\n",
       "  <tbody>\n",
       "    <tr>\n",
       "      <th>1925</th>\n",
       "      <td>9</td>\n",
       "      <td>1414</td>\n",
       "      <td>https://www.athlinks.com/event/39085/results/Event/640679/Course/1043349/Bib/634</td>\n",
       "      <td>Tri Santa Cruz</td>\n",
       "      <td>32.0</td>\n",
       "      <td>WEATHER\\n75°F24°C</td>\n",
       "      <td>Olympic Tri - 1500M Swim,40K Bike,10K Run\\nMIKM</td>\n",
       "      <td>32:15</td>\n",
       "      <td>3:31</td>\n",
       "      <td>1:19:45</td>\n",
       "      <td>2:23</td>\n",
       "      <td>1:00:25</td>\n",
       "      <td>2:58:16</td>\n",
       "      <td>F 20</td>\n",
       "      <td>Stanford, CA</td>\n",
       "    </tr>\n",
       "    <tr>\n",
       "      <th>3575</th>\n",
       "      <td>6</td>\n",
       "      <td>231</td>\n",
       "      <td>https://www.athlinks.com/event/130687/results/Event/767339/Course/1315440/Bib/449</td>\n",
       "      <td>Riverbluff Triathlon</td>\n",
       "      <td>32.0</td>\n",
       "      <td>WEATHER\\n91°F33°C</td>\n",
       "      <td>Olympic Triathlon - 1500M Swim, 40K Bike, 10K Run\\nMIKM</td>\n",
       "      <td>34:38</td>\n",
       "      <td>2:27</td>\n",
       "      <td>1:11:05</td>\n",
       "      <td>1:40</td>\n",
       "      <td>55:24</td>\n",
       "      <td>2:45:12</td>\n",
       "      <td>F 37</td>\n",
       "      <td>CLARKSVILLE, TN</td>\n",
       "    </tr>\n",
       "    <tr>\n",
       "      <th>6602</th>\n",
       "      <td>32</td>\n",
       "      <td>412</td>\n",
       "      <td>https://www.athlinks.com/event/42964/results/Event/912708/Course/1807697/Bib/532</td>\n",
       "      <td>Berlin Triathlon</td>\n",
       "      <td>32.0</td>\n",
       "      <td>WEATHER\\nNo data available</td>\n",
       "      <td>Olympic Tri - 1500M Swim, 40K Bike, 10K Run\\nMIKM</td>\n",
       "      <td>31:13</td>\n",
       "      <td>NaN</td>\n",
       "      <td>1:28:06</td>\n",
       "      <td>NaN</td>\n",
       "      <td>1:06:23</td>\n",
       "      <td>3:05:42</td>\n",
       "      <td>M 30</td>\n",
       "      <td>Berlin, DEU</td>\n",
       "    </tr>\n",
       "    <tr>\n",
       "      <th>4422</th>\n",
       "      <td>41</td>\n",
       "      <td>264</td>\n",
       "      <td>https://www.athlinks.com/event/35374/results/Event/525322/Course/784291/Bib/1337</td>\n",
       "      <td>Mooloolaba Triathlon</td>\n",
       "      <td>32.0</td>\n",
       "      <td>WEATHER\\n83°F28°C</td>\n",
       "      <td>Olympic Tri (1500M Swim, 40K Bike, 10K Run)\\nMIKM</td>\n",
       "      <td>26:09</td>\n",
       "      <td>2:52</td>\n",
       "      <td>1:15:46</td>\n",
       "      <td>1:12</td>\n",
       "      <td>50:43</td>\n",
       "      <td>2:36:43</td>\n",
       "      <td>M 45</td>\n",
       "      <td>Mooloolaba, AUS</td>\n",
       "    </tr>\n",
       "    <tr>\n",
       "      <th>932</th>\n",
       "      <td>20</td>\n",
       "      <td>1358</td>\n",
       "      <td>https://www.athlinks.com/event/30239/results/Event/473098/Course/660233/Bib/209</td>\n",
       "      <td>Hansen Dam Triathlon</td>\n",
       "      <td>32.0</td>\n",
       "      <td>WEATHER\\nNo data available</td>\n",
       "      <td>Olympic Tri-1500M Swim, 40K Bike, 10K Run\\nMIKM</td>\n",
       "      <td>32:12</td>\n",
       "      <td>NaN</td>\n",
       "      <td>1:04:01</td>\n",
       "      <td>NaN</td>\n",
       "      <td>1:00:21</td>\n",
       "      <td>2:39:39</td>\n",
       "      <td>M 35</td>\n",
       "      <td>Lakeview Terrace, CA</td>\n",
       "    </tr>\n",
       "  </tbody>\n",
       "</table>\n",
       "</div>"
      ],
      "text/plain": [
       "      id  event_id  \\\n",
       "1925   9      1414   \n",
       "3575   6       231   \n",
       "6602  32       412   \n",
       "4422  41       264   \n",
       "932   20      1358   \n",
       "\n",
       "                                                                              racer_url  \\\n",
       "1925   https://www.athlinks.com/event/39085/results/Event/640679/Course/1043349/Bib/634   \n",
       "3575  https://www.athlinks.com/event/130687/results/Event/767339/Course/1315440/Bib/449   \n",
       "6602   https://www.athlinks.com/event/42964/results/Event/912708/Course/1807697/Bib/532   \n",
       "4422   https://www.athlinks.com/event/35374/results/Event/525322/Course/784291/Bib/1337   \n",
       "932     https://www.athlinks.com/event/30239/results/Event/473098/Course/660233/Bib/209   \n",
       "\n",
       "                event_name  distance                     weather  \\\n",
       "1925        Tri Santa Cruz      32.0           WEATHER\\n75°F24°C   \n",
       "3575  Riverbluff Triathlon      32.0           WEATHER\\n91°F33°C   \n",
       "6602      Berlin Triathlon      32.0  WEATHER\\nNo data available   \n",
       "4422  Mooloolaba Triathlon      32.0           WEATHER\\n83°F28°C   \n",
       "932   Hansen Dam Triathlon      32.0  WEATHER\\nNo data available   \n",
       "\n",
       "                                                  course_name swim_time    t1  \\\n",
       "1925          Olympic Tri - 1500M Swim,40K Bike,10K Run\\nMIKM     32:15  3:31   \n",
       "3575  Olympic Triathlon - 1500M Swim, 40K Bike, 10K Run\\nMIKM     34:38  2:27   \n",
       "6602        Olympic Tri - 1500M Swim, 40K Bike, 10K Run\\nMIKM     31:13   NaN   \n",
       "4422        Olympic Tri (1500M Swim, 40K Bike, 10K Run)\\nMIKM     26:09  2:52   \n",
       "932           Olympic Tri-1500M Swim, 40K Bike, 10K Run\\nMIKM     32:12   NaN   \n",
       "\n",
       "     bike_time    t2 run_time full_time ageGender              location  \n",
       "1925   1:19:45  2:23  1:00:25   2:58:16      F 20          Stanford, CA  \n",
       "3575   1:11:05  1:40    55:24   2:45:12      F 37       CLARKSVILLE, TN  \n",
       "6602   1:28:06   NaN  1:06:23   3:05:42      M 30           Berlin, DEU  \n",
       "4422   1:15:46  1:12    50:43   2:36:43      M 45       Mooloolaba, AUS  \n",
       "932    1:04:01   NaN  1:00:21   2:39:39      M 35  Lakeview Terrace, CA  "
      ]
     },
     "execution_count": 257,
     "metadata": {},
     "output_type": "execute_result"
    }
   ],
   "source": [
    "race_data.sample(5)"
   ]
  },
  {
   "cell_type": "markdown",
   "metadata": {},
   "source": [
    "## Train/Test Split"
   ]
  },
  {
   "cell_type": "markdown",
   "metadata": {},
   "source": [
    "First, remove any rows where swim/run/bike time are null (since that's what we're building models to predict). To first convert to seconds, need to standardize column to hh:mm:ss"
   ]
  },
  {
   "cell_type": "code",
   "execution_count": 258,
   "metadata": {},
   "outputs": [],
   "source": [
    "def standardize_time(x):\n",
    "    count = str(x).count(':')\n",
    "    if count == 0:\n",
    "        return f'00:00:{x}'\n",
    "    elif count == 1:\n",
    "        return f'00:{x}'\n",
    "    return x"
   ]
  },
  {
   "cell_type": "code",
   "execution_count": 259,
   "metadata": {},
   "outputs": [],
   "source": [
    "race_data['full_time'] = race_data['full_time'].apply(standardize_time)\n",
    "race_data['swim_time'] = race_data['swim_time'].apply(standardize_time)\n",
    "race_data['run_time'] = race_data['run_time'].apply(standardize_time)\n",
    "race_data['bike_time'] = race_data['bike_time'].apply(standardize_time)"
   ]
  },
  {
   "cell_type": "code",
   "execution_count": 260,
   "metadata": {},
   "outputs": [],
   "source": [
    "race_data['t1'] = race_data['t1'].apply(standardize_time)\n",
    "race_data['t2'] = race_data['t2'].apply(standardize_time)"
   ]
  },
  {
   "cell_type": "code",
   "execution_count": 261,
   "metadata": {},
   "outputs": [],
   "source": [
    "race_data['full_time'] = pd.to_timedelta(race_data['full_time'], errors='coerce')\n",
    "race_data['swim_time'] = pd.to_timedelta(race_data['swim_time'], errors='coerce')\n",
    "race_data['run_time'] = pd.to_timedelta(race_data['run_time'], errors='coerce')\n",
    "race_data['bike_time'] = pd.to_timedelta(race_data['bike_time'], errors='coerce')"
   ]
  },
  {
   "cell_type": "code",
   "execution_count": 262,
   "metadata": {},
   "outputs": [],
   "source": [
    "race_data['t1'] = pd.to_timedelta(race_data['t1'], errors='coerce')\n",
    "race_data['t2'] = pd.to_timedelta(race_data['t2'], errors='coerce')"
   ]
  },
  {
   "cell_type": "markdown",
   "metadata": {},
   "source": [
    "Any rows where we don't have a swim/run/bike time, we remove"
   ]
  },
  {
   "cell_type": "code",
   "execution_count": 263,
   "metadata": {},
   "outputs": [],
   "source": [
    "race_data = race_data.loc[~race_data[['swim_time','run_time','bike_time','full_time']].isnull().any(axis=1)]"
   ]
  },
  {
   "cell_type": "code",
   "execution_count": 264,
   "metadata": {},
   "outputs": [],
   "source": [
    "race_data['full_time_secs'] = race_data['full_time'].dt.total_seconds()\n",
    "race_data['swim_time_secs'] = race_data['swim_time'].dt.total_seconds()\n",
    "race_data['run_time_secs'] = race_data['run_time'].dt.total_seconds()\n",
    "race_data['bike_time_secs'] = race_data['bike_time'].dt.total_seconds()"
   ]
  },
  {
   "cell_type": "code",
   "execution_count": 265,
   "metadata": {},
   "outputs": [],
   "source": [
    "race_data['t1_secs'] = race_data['t1'].dt.total_seconds()\n",
    "race_data['t2_secs'] = race_data['t2'].dt.total_seconds()"
   ]
  },
  {
   "cell_type": "markdown",
   "metadata": {},
   "source": [
    "Finally, train/test split for model building/evaluation"
   ]
  },
  {
   "cell_type": "code",
   "execution_count": 266,
   "metadata": {},
   "outputs": [],
   "source": [
    "train, test = train_test_split(race_data, test_size=0.20, random_state=42)"
   ]
  },
  {
   "cell_type": "markdown",
   "metadata": {},
   "source": [
    "## Inspecting Data"
   ]
  },
  {
   "cell_type": "code",
   "execution_count": 282,
   "metadata": {},
   "outputs": [
    {
     "data": {
      "text/plain": [
       "Index(['id', 'event_id', 'racer_url', 'event_name', 'distance', 'weather',\n",
       "       'course_name', 'swim_time', 't1', 'bike_time', 't2', 'run_time',\n",
       "       'full_time', 'ageGender', 'location', 'full_time_secs',\n",
       "       'swim_time_secs', 'run_time_secs', 'bike_time_secs', 't1_secs',\n",
       "       't2_secs', 'gender', 'age', 't1_flag', 't2_flag', 'age_flag'],\n",
       "      dtype='object')"
      ]
     },
     "execution_count": 282,
     "metadata": {},
     "output_type": "execute_result"
    }
   ],
   "source": [
    "train.columns"
   ]
  },
  {
   "cell_type": "code",
   "execution_count": 267,
   "metadata": {},
   "outputs": [
    {
     "data": {
      "text/plain": [
       "id                   0\n",
       "event_id             0\n",
       "racer_url            0\n",
       "event_name          23\n",
       "distance             2\n",
       "weather              1\n",
       "course_name          0\n",
       "swim_time            0\n",
       "t1                2415\n",
       "bike_time            0\n",
       "t2                2437\n",
       "run_time             0\n",
       "full_time            0\n",
       "ageGender            1\n",
       "location             1\n",
       "full_time_secs       0\n",
       "swim_time_secs       0\n",
       "run_time_secs        0\n",
       "bike_time_secs       0\n",
       "t1_secs           2415\n",
       "t2_secs           2437\n",
       "dtype: int64"
      ]
     },
     "execution_count": 267,
     "metadata": {},
     "output_type": "execute_result"
    }
   ],
   "source": [
    "train.isnull().sum()"
   ]
  },
  {
   "cell_type": "markdown",
   "metadata": {},
   "source": [
    "Observations:\n",
    "* Need to create null flags and impute on some columns\n",
    "* Fair number (~25%) where transition times are missing"
   ]
  },
  {
   "cell_type": "code",
   "execution_count": 283,
   "metadata": {},
   "outputs": [],
   "source": [
    "corrMatrix = train[['full_time_secs','swim_time_secs', 'run_time_secs',\n",
    "                    'bike_time_secs', 't1_secs','t2_secs','age']].corr()"
   ]
  },
  {
   "cell_type": "code",
   "execution_count": 286,
   "metadata": {},
   "outputs": [
    {
     "data": {
      "image/png": "[encoded data removed]",
      "text/plain": [
       "<Figure size 864x432 with 2 Axes>"
      ]
     },
     "metadata": {
      "needs_background": "light"
     },
     "output_type": "display_data"
    }
   ],
   "source": [
    "plt.figure(figsize=(12,6))\n",
    "corrPlot = sn.heatmap(corrMatrix, annot=True)"
   ]
  },
  {
   "cell_type": "markdown",
   "metadata": {},
   "source": [
    "Notes:\n",
    "* Run & bike are more correlated with full time than swim (since they take longer). \n",
    "* Transition times not very correlated with full time (so don't seem worth keeping, can also be course dependent)\n"
   ]
  },
  {
   "cell_type": "code",
   "execution_count": 297,
   "metadata": {},
   "outputs": [],
   "source": [
    "age_agg = train.groupby('age').agg({'full_time_secs':'median', 'swim_time_secs':'median', \n",
    "                                    'bike_time_secs':'median', 'run_time_secs':'median'}).reset_index()"
   ]
  },
  {
   "cell_type": "markdown",
   "metadata": {},
   "source": [
    "Too many unavailable data points (>50%) so not worth including"
   ]
  },
  {
   "cell_type": "code",
   "execution_count": 268,
   "metadata": {},
   "outputs": [
    {
     "data": {
      "text/plain": [
       "WEATHER\\nNo data available    4018\n",
       "WEATHER\\n83°F28°C              672\n",
       "WEATHER\\n75°F24°C              424\n",
       "WEATHER\\n88°F31°C              311\n",
       "WEATHER\\n84°F29°C              288\n",
       "WEATHER\\n87°F31°C              250\n",
       "WEATHER\\n81°F27°C              244\n",
       "WEATHER\\n85°F30°C              227\n",
       "WEATHER\\n91°F33°C              217\n",
       "WEATHER\\n67°F19°C              136\n",
       "WEATHER\\n80°F27°C              133\n",
       "WEATHER\\n89°F31°C              122\n",
       "WEATHER\\n104°F40°C             105\n",
       "WEATHER\\n90°F32°C               92\n",
       "WEATHER\\n65°F18°C               86\n",
       "WEATHER\\n60°F15°C               84\n",
       "WEATHER\\n82°F28°C               31\n",
       "WEATHER                          6\n",
       "WEATHER\\n98°F36°C                4\n",
       "Name: weather, dtype: int64"
      ]
     },
     "execution_count": 268,
     "metadata": {},
     "output_type": "execute_result"
    }
   ],
   "source": [
    "train.weather.value_counts()"
   ]
  },
  {
   "cell_type": "markdown",
   "metadata": {},
   "source": [
    "## Cleaning Data"
   ]
  },
  {
   "cell_type": "markdown",
   "metadata": {},
   "source": [
    "Split into separate columns, deal with nulls in general pipeline section"
   ]
  },
  {
   "cell_type": "code",
   "execution_count": 269,
   "metadata": {},
   "outputs": [
    {
     "name": "stderr",
     "output_type": "stream",
     "text": [
      "/Users/jacobgoffin/anaconda3/lib/python3.7/site-packages/pandas/core/frame.py:3391: SettingWithCopyWarning: \n",
      "A value is trying to be set on a copy of a slice from a DataFrame.\n",
      "Try using .loc[row_indexer,col_indexer] = value instead\n",
      "\n",
      "See the caveats in the documentation: http://pandas.pydata.org/pandas-docs/stable/indexing.html#indexing-view-versus-copy\n",
      "  self[k1] = value[k2]\n"
     ]
    }
   ],
   "source": [
    "train[['gender','age']] = train.ageGender.str.split(expand=True)\n",
    "test[['gender','age']] = test.ageGender.str.split(expand=True)"
   ]
  },
  {
   "cell_type": "code",
   "execution_count": 270,
   "metadata": {},
   "outputs": [
    {
     "data": {
      "text/plain": [
       "M    5311\n",
       "F    2008\n",
       "U     131\n",
       "Name: gender, dtype: int64"
      ]
     },
     "execution_count": 270,
     "metadata": {},
     "output_type": "execute_result"
    }
   ],
   "source": [
    "train.gender.value_counts()"
   ]
  },
  {
   "cell_type": "code",
   "execution_count": 271,
   "metadata": {},
   "outputs": [
    {
     "data": {
      "text/plain": [
       "age       1262\n",
       "gender       1\n",
       "dtype: int64"
      ]
     },
     "execution_count": 271,
     "metadata": {},
     "output_type": "execute_result"
    }
   ],
   "source": [
    "train[['age','gender']].isnull().sum()"
   ]
  },
  {
   "cell_type": "code",
   "execution_count": 272,
   "metadata": {
    "scrolled": true
   },
   "outputs": [
    {
     "name": "stderr",
     "output_type": "stream",
     "text": [
      "/Users/jacobgoffin/anaconda3/lib/python3.7/site-packages/ipykernel_launcher.py:1: SettingWithCopyWarning: \n",
      "A value is trying to be set on a copy of a slice from a DataFrame.\n",
      "Try using .loc[row_indexer,col_indexer] = value instead\n",
      "\n",
      "See the caveats in the documentation: http://pandas.pydata.org/pandas-docs/stable/indexing.html#indexing-view-versus-copy\n",
      "  \"\"\"Entry point for launching an IPython kernel.\n",
      "/Users/jacobgoffin/anaconda3/lib/python3.7/site-packages/ipykernel_launcher.py:2: SettingWithCopyWarning: \n",
      "A value is trying to be set on a copy of a slice from a DataFrame.\n",
      "Try using .loc[row_indexer,col_indexer] = value instead\n",
      "\n",
      "See the caveats in the documentation: http://pandas.pydata.org/pandas-docs/stable/indexing.html#indexing-view-versus-copy\n",
      "  \n",
      "/Users/jacobgoffin/anaconda3/lib/python3.7/site-packages/ipykernel_launcher.py:3: SettingWithCopyWarning: \n",
      "A value is trying to be set on a copy of a slice from a DataFrame.\n",
      "Try using .loc[row_indexer,col_indexer] = value instead\n",
      "\n",
      "See the caveats in the documentation: http://pandas.pydata.org/pandas-docs/stable/indexing.html#indexing-view-versus-copy\n",
      "  This is separate from the ipykernel package so we can avoid doing imports until\n",
      "/Users/jacobgoffin/anaconda3/lib/python3.7/site-packages/ipykernel_launcher.py:4: SettingWithCopyWarning: \n",
      "A value is trying to be set on a copy of a slice from a DataFrame.\n",
      "Try using .loc[row_indexer,col_indexer] = value instead\n",
      "\n",
      "See the caveats in the documentation: http://pandas.pydata.org/pandas-docs/stable/indexing.html#indexing-view-versus-copy\n",
      "  after removing the cwd from sys.path.\n"
     ]
    }
   ],
   "source": [
    "train['t1_flag'] = train['t1'].isna().astype('float')\n",
    "train['t2_flag'] = train['t2'].isna().astype('float')\n",
    "test['t1_flag'] = test['t1'].isna().astype('float')\n",
    "test['t2_flag'] = test['t2'].isna().astype('float')"
   ]
  },
  {
   "cell_type": "code",
   "execution_count": 273,
   "metadata": {},
   "outputs": [
    {
     "name": "stderr",
     "output_type": "stream",
     "text": [
      "/Users/jacobgoffin/anaconda3/lib/python3.7/site-packages/ipykernel_launcher.py:1: SettingWithCopyWarning: \n",
      "A value is trying to be set on a copy of a slice from a DataFrame.\n",
      "Try using .loc[row_indexer,col_indexer] = value instead\n",
      "\n",
      "See the caveats in the documentation: http://pandas.pydata.org/pandas-docs/stable/indexing.html#indexing-view-versus-copy\n",
      "  \"\"\"Entry point for launching an IPython kernel.\n",
      "/Users/jacobgoffin/anaconda3/lib/python3.7/site-packages/ipykernel_launcher.py:2: SettingWithCopyWarning: \n",
      "A value is trying to be set on a copy of a slice from a DataFrame.\n",
      "Try using .loc[row_indexer,col_indexer] = value instead\n",
      "\n",
      "See the caveats in the documentation: http://pandas.pydata.org/pandas-docs/stable/indexing.html#indexing-view-versus-copy\n",
      "  \n"
     ]
    }
   ],
   "source": [
    "train['age_flag'] = train['age'].isna().astype('float')\n",
    "test['age_flag'] = test['age'].isna().astype('float')"
   ]
  },
  {
   "cell_type": "code",
   "execution_count": 274,
   "metadata": {},
   "outputs": [
    {
     "name": "stderr",
     "output_type": "stream",
     "text": [
      "/Users/jacobgoffin/anaconda3/lib/python3.7/site-packages/pandas/core/indexing.py:543: SettingWithCopyWarning: \n",
      "A value is trying to be set on a copy of a slice from a DataFrame.\n",
      "Try using .loc[row_indexer,col_indexer] = value instead\n",
      "\n",
      "See the caveats in the documentation: http://pandas.pydata.org/pandas-docs/stable/indexing.html#indexing-view-versus-copy\n",
      "  self.obj[item] = s\n"
     ]
    }
   ],
   "source": [
    "train.loc[train.gender.isnull(), 'gender'] = 'U'\n",
    "test.loc[test.gender.isnull(), 'gender'] = 'U'"
   ]
  },
  {
   "cell_type": "code",
   "execution_count": 275,
   "metadata": {
    "scrolled": true
   },
   "outputs": [
    {
     "data": {
      "text/plain": [
       "id                   0\n",
       "event_id             0\n",
       "racer_url            0\n",
       "event_name          23\n",
       "distance             2\n",
       "weather              1\n",
       "course_name          0\n",
       "swim_time            0\n",
       "t1                2415\n",
       "bike_time            0\n",
       "t2                2437\n",
       "run_time             0\n",
       "full_time            0\n",
       "ageGender            1\n",
       "location             1\n",
       "full_time_secs       0\n",
       "swim_time_secs       0\n",
       "run_time_secs        0\n",
       "bike_time_secs       0\n",
       "t1_secs           2415\n",
       "t2_secs           2437\n",
       "gender               0\n",
       "age               1262\n",
       "t1_flag              0\n",
       "t2_flag              0\n",
       "age_flag             0\n",
       "dtype: int64"
      ]
     },
     "execution_count": 275,
     "metadata": {},
     "output_type": "execute_result"
    }
   ],
   "source": [
    "train.isnull().sum()"
   ]
  },
  {
   "cell_type": "markdown",
   "metadata": {},
   "source": [
    "<h3> Looking for outliers </h3>"
   ]
  },
  {
   "cell_type": "code",
   "execution_count": 276,
   "metadata": {},
   "outputs": [
    {
     "data": {
      "text/html": [
       "<div>\n",
       "<style scoped>\n",
       "    .dataframe tbody tr th:only-of-type {\n",
       "        vertical-align: middle;\n",
       "    }\n",
       "\n",
       "    .dataframe tbody tr th {\n",
       "        vertical-align: top;\n",
       "    }\n",
       "\n",
       "    .dataframe thead th {\n",
       "        text-align: right;\n",
       "    }\n",
       "</style>\n",
       "<table border=\"1\" class=\"dataframe\">\n",
       "  <thead>\n",
       "    <tr style=\"text-align: right;\">\n",
       "      <th></th>\n",
       "      <th>swim_time</th>\n",
       "      <th>run_time</th>\n",
       "      <th>bike_time</th>\n",
       "      <th>t1</th>\n",
       "      <th>t2</th>\n",
       "    </tr>\n",
       "  </thead>\n",
       "  <tbody>\n",
       "    <tr>\n",
       "      <th>count</th>\n",
       "      <td>7451</td>\n",
       "      <td>7451</td>\n",
       "      <td>7451</td>\n",
       "      <td>5036</td>\n",
       "      <td>5014</td>\n",
       "    </tr>\n",
       "    <tr>\n",
       "      <th>mean</th>\n",
       "      <td>0 days 00:30:52.025634</td>\n",
       "      <td>0 days 00:53:45.592537</td>\n",
       "      <td>0 days 01:18:03.635485</td>\n",
       "      <td>0 days 00:02:48.347696</td>\n",
       "      <td>0 days 00:01:52.963502</td>\n",
       "    </tr>\n",
       "    <tr>\n",
       "      <th>std</th>\n",
       "      <td>0 days 00:07:56.683810</td>\n",
       "      <td>0 days 00:12:21.652996</td>\n",
       "      <td>0 days 00:12:09.483638</td>\n",
       "      <td>0 days 00:01:53.927284</td>\n",
       "      <td>0 days 00:02:13.622439</td>\n",
       "    </tr>\n",
       "    <tr>\n",
       "      <th>min</th>\n",
       "      <td>0 days 00:00:14</td>\n",
       "      <td>0 days 00:03:39</td>\n",
       "      <td>0 days 00:00:16</td>\n",
       "      <td>0 days 00:00:03</td>\n",
       "      <td>0 days 00:00:24</td>\n",
       "    </tr>\n",
       "    <tr>\n",
       "      <th>25%</th>\n",
       "      <td>0 days 00:26:01</td>\n",
       "      <td>0 days 00:45:36</td>\n",
       "      <td>0 days 01:09:48</td>\n",
       "      <td>0 days 00:01:41</td>\n",
       "      <td>0 days 00:01:10</td>\n",
       "    </tr>\n",
       "    <tr>\n",
       "      <th>50%</th>\n",
       "      <td>0 days 00:30:05</td>\n",
       "      <td>0 days 00:51:31</td>\n",
       "      <td>0 days 01:16:12</td>\n",
       "      <td>0 days 00:02:22</td>\n",
       "      <td>0 days 00:01:35</td>\n",
       "    </tr>\n",
       "    <tr>\n",
       "      <th>75%</th>\n",
       "      <td>0 days 00:35:06</td>\n",
       "      <td>0 days 00:59:01</td>\n",
       "      <td>0 days 01:24:32</td>\n",
       "      <td>0 days 00:03:22.250000</td>\n",
       "      <td>0 days 00:02:13</td>\n",
       "    </tr>\n",
       "    <tr>\n",
       "      <th>max</th>\n",
       "      <td>0 days 01:56:33</td>\n",
       "      <td>0 days 02:21:51</td>\n",
       "      <td>0 days 02:57:29</td>\n",
       "      <td>0 days 00:36:24</td>\n",
       "      <td>0 days 01:24:33</td>\n",
       "    </tr>\n",
       "  </tbody>\n",
       "</table>\n",
       "</div>"
      ],
      "text/plain": [
       "                    swim_time                run_time               bike_time  \\\n",
       "count                    7451                    7451                    7451   \n",
       "mean   0 days 00:30:52.025634  0 days 00:53:45.592537  0 days 01:18:03.635485   \n",
       "std    0 days 00:07:56.683810  0 days 00:12:21.652996  0 days 00:12:09.483638   \n",
       "min           0 days 00:00:14         0 days 00:03:39         0 days 00:00:16   \n",
       "25%           0 days 00:26:01         0 days 00:45:36         0 days 01:09:48   \n",
       "50%           0 days 00:30:05         0 days 00:51:31         0 days 01:16:12   \n",
       "75%           0 days 00:35:06         0 days 00:59:01         0 days 01:24:32   \n",
       "max           0 days 01:56:33         0 days 02:21:51         0 days 02:57:29   \n",
       "\n",
       "                           t1                      t2  \n",
       "count                    5036                    5014  \n",
       "mean   0 days 00:02:48.347696  0 days 00:01:52.963502  \n",
       "std    0 days 00:01:53.927284  0 days 00:02:13.622439  \n",
       "min           0 days 00:00:03         0 days 00:00:24  \n",
       "25%           0 days 00:01:41         0 days 00:01:10  \n",
       "50%           0 days 00:02:22         0 days 00:01:35  \n",
       "75%    0 days 00:03:22.250000         0 days 00:02:13  \n",
       "max           0 days 00:36:24         0 days 01:24:33  "
      ]
     },
     "execution_count": 276,
     "metadata": {},
     "output_type": "execute_result"
    }
   ],
   "source": [
    "train[['swim_time','run_time','bike_time','t1','t2']].describe()"
   ]
  },
  {
   "cell_type": "markdown",
   "metadata": {},
   "source": [
    "Notes:\n",
    "* Swim-cutoff: 1 hour\n",
    "* Bike-cutoff: 3 hours\n",
    "* Run-cutoff: 2 hours"
   ]
  },
  {
   "cell_type": "code",
   "execution_count": 302,
   "metadata": {},
   "outputs": [],
   "source": [
    "train_filtered = train.loc[(train.swim_time_secs <= 3600) \n",
    "                           & (train.bike_time_secs <= 10800)\n",
    "                           & (train.swim_time_secs <= 7200)]\n",
    "test_filtered = test.loc[(test.swim_time_secs <= 3600) \n",
    "                           & (test.bike_time_secs <= 10800)\n",
    "                           & (test.swim_time_secs <= 7200)]"
   ]
  },
  {
   "cell_type": "markdown",
   "metadata": {},
   "source": [
    "## Pipeline"
   ]
  },
  {
   "cell_type": "code",
   "execution_count": 339,
   "metadata": {},
   "outputs": [],
   "source": [
    "relevant_columns = ['swim_time_secs','bike_time_secs','run_time_secs','age','gender','age_flag',\n",
    "                    't1_secs','t2_secs','t1_flag','t2_flag']\n",
    "train_relevant = train_filtered[relevant_columns]\n",
    "test_relevant = test_filtered[relevant_columns]"
   ]
  },
  {
   "cell_type": "code",
   "execution_count": 340,
   "metadata": {},
   "outputs": [],
   "source": [
    "X_train, y_train = train_relevant.drop(columns=['swim_time_secs']), train_relevant['swim_time_secs']\n",
    "X_test, y_test = test_relevant.drop(columns=['swim_time_secs']), test_relevant['swim_time_secs']"
   ]
  },
  {
   "cell_type": "code",
   "execution_count": null,
   "metadata": {},
   "outputs": [],
   "source": []
  },
  {
   "cell_type": "code",
   "execution_count": 341,
   "metadata": {},
   "outputs": [],
   "source": [
    "def make_pipeline(regressor=None, scaled=False):\n",
    "    \"\"\"\n",
    "    Create a single pipeline that processes the data and then fits the regressor\n",
    "    \"\"\"\n",
    "\n",
    "    continuous_var = ['bike_time_secs','run_time_secs','age','t1_secs','t2_secs',]\n",
    "    categorical_var = ['gender',]\n",
    "    boolean_var = ['age_flag','t1_flag', 't2_flag',]\n",
    "\n",
    "    if scaled:\n",
    "        continuous_transformer = Pipeline(steps=[\n",
    "            ('imputer', impute.SimpleImputer(strategy='median')),\n",
    "            ('normalize', preprocessing.StandardScaler())\n",
    "        ])\n",
    "    else:\n",
    "        continuous_transformer = Pipeline(steps=[\n",
    "            ('imputer', impute.SimpleImputer(strategy='median'))\n",
    "        ])\n",
    "\n",
    "    categorical_transformer = Pipeline(steps=[\n",
    "        ('imputer', impute.SimpleImputer(strategy='most_frequent')),\n",
    "        ('encoder', preprocessing.OneHotEncoder(handle_unknown='ignore'))\n",
    "    ])\n",
    "\n",
    "    preprocessor = compose.ColumnTransformer(\n",
    "        transformers=[\n",
    "            ('continuous_var', continuous_transformer, continuous_var),\n",
    "            ('categorical_var', categorical_transformer, categorical_var),\n",
    "            ('boolean_var', 'passthrough', boolean_var)\n",
    "        ])\n",
    "\n",
    "    pipeline = Pipeline(steps=[('preprocessor', preprocessor),\n",
    "                               ('regressor', regressor)])\n",
    "\n",
    "    return pipeline"
   ]
  },
  {
   "cell_type": "markdown",
   "metadata": {},
   "source": [
    "## Cross-Validate"
   ]
  },
  {
   "cell_type": "markdown",
   "metadata": {},
   "source": [
    "Using Median Absolute Error (MAE) as a scoring criteria. Easier to interpret in the context of triathlon race times"
   ]
  },
  {
   "cell_type": "code",
   "execution_count": 342,
   "metadata": {},
   "outputs": [],
   "source": [
    "lr_model = LinearRegression(fit_intercept=True, normalize=False)\n",
    "lr_pipeline = make_pipeline(lr_model, scaled=True)"
   ]
  },
  {
   "cell_type": "code",
   "execution_count": 343,
   "metadata": {},
   "outputs": [
    {
     "data": {
      "text/plain": [
       "array([-224.65197853, -225.50492746, -231.8811548 , -216.92079579,\n",
       "       -229.58566498])"
      ]
     },
     "execution_count": 343,
     "metadata": {},
     "output_type": "execute_result"
    }
   ],
   "source": [
    "k_fold = KFold(n_splits=5)\n",
    "cross_val_score(lr_pipeline,\n",
    "                X_train,\n",
    "                y_train,\n",
    "                scoring='neg_median_absolute_error',\n",
    "                cv=k_fold,)"
   ]
  },
  {
   "cell_type": "code",
   "execution_count": 344,
   "metadata": {},
   "outputs": [],
   "source": [
    "rf_model = RandomForestRegressor(n_estimators=100)\n",
    "rf_pipeline = make_pipeline(rf_model, scaled=False)"
   ]
  },
  {
   "cell_type": "code",
   "execution_count": 345,
   "metadata": {},
   "outputs": [
    {
     "data": {
      "text/plain": [
       "array([-201.53 , -207.545, -206.99 , -206.105, -211.01 ])"
      ]
     },
     "execution_count": 345,
     "metadata": {},
     "output_type": "execute_result"
    }
   ],
   "source": [
    "k_fold = KFold(n_splits=5)\n",
    "cross_val_score(rf_pipeline,\n",
    "                X_train,\n",
    "                y_train,\n",
    "                scoring='neg_median_absolute_error',\n",
    "                cv=k_fold,)"
   ]
  },
  {
   "cell_type": "markdown",
   "metadata": {},
   "source": [
    "Notes:\n",
    "* Basic RF does improve on a baseline linear regression model\n",
    "* Achieving around ~3mins 20secs median error for swim time (~10% error)"
   ]
  },
  {
   "cell_type": "code",
   "execution_count": 346,
   "metadata": {},
   "outputs": [
    {
     "data": {
      "text/plain": [
       "1802.5"
      ]
     },
     "execution_count": 346,
     "metadata": {},
     "output_type": "execute_result"
    }
   ],
   "source": [
    "y_train.median()"
   ]
  },
  {
   "cell_type": "markdown",
   "metadata": {},
   "source": [
    "## Final Model"
   ]
  },
  {
   "cell_type": "code",
   "execution_count": 347,
   "metadata": {
    "scrolled": true
   },
   "outputs": [
    {
     "data": {
      "text/plain": [
       "Pipeline(memory=None,\n",
       "         steps=[('preprocessor',\n",
       "                 ColumnTransformer(n_jobs=None, remainder='drop',\n",
       "                                   sparse_threshold=0.3,\n",
       "                                   transformer_weights=None,\n",
       "                                   transformers=[('continuous_var',\n",
       "                                                  Pipeline(memory=None,\n",
       "                                                           steps=[('imputer',\n",
       "                                                                   SimpleImputer(add_indicator=False,\n",
       "                                                                                 copy=True,\n",
       "                                                                                 fill_value=None,\n",
       "                                                                                 missing_values=nan,\n",
       "                                                                                 strategy='median',\n",
       "                                                                                 verbose=0))],\n",
       "                                                           verbose=False),\n",
       "                                                  ['bike_time_secs'...\n",
       "                 RandomForestRegressor(bootstrap=True, ccp_alpha=0.0,\n",
       "                                       criterion='mse', max_depth=None,\n",
       "                                       max_features='auto', max_leaf_nodes=None,\n",
       "                                       max_samples=None,\n",
       "                                       min_impurity_decrease=0.0,\n",
       "                                       min_impurity_split=None,\n",
       "                                       min_samples_leaf=1, min_samples_split=2,\n",
       "                                       min_weight_fraction_leaf=0.0,\n",
       "                                       n_estimators=100, n_jobs=None,\n",
       "                                       oob_score=False, random_state=None,\n",
       "                                       verbose=0, warm_start=False))],\n",
       "         verbose=False)"
      ]
     },
     "execution_count": 347,
     "metadata": {},
     "output_type": "execute_result"
    }
   ],
   "source": [
    "rf_pipeline.fit(X_train, y_train)"
   ]
  },
  {
   "cell_type": "code",
   "execution_count": 348,
   "metadata": {},
   "outputs": [],
   "source": [
    "test_predictions = rf_pipeline.predict(X_test)"
   ]
  },
  {
   "cell_type": "code",
   "execution_count": 349,
   "metadata": {},
   "outputs": [
    {
     "data": {
      "text/plain": [
       "199.96000000000004"
      ]
     },
     "execution_count": 349,
     "metadata": {},
     "output_type": "execute_result"
    }
   ],
   "source": [
    "median_absolute_error(y_true=y_test, y_pred=test_predictions)"
   ]
  },
  {
   "cell_type": "code",
   "execution_count": 353,
   "metadata": {},
   "outputs": [
    {
     "data": {
      "text/plain": [
       "Pipeline(memory=None,\n",
       "         steps=[('preprocessor',\n",
       "                 ColumnTransformer(n_jobs=None, remainder='drop',\n",
       "                                   sparse_threshold=0.3,\n",
       "                                   transformer_weights=None,\n",
       "                                   transformers=[('continuous_var',\n",
       "                                                  Pipeline(memory=None,\n",
       "                                                           steps=[('imputer',\n",
       "                                                                   SimpleImputer(add_indicator=False,\n",
       "                                                                                 copy=True,\n",
       "                                                                                 fill_value=None,\n",
       "                                                                                 missing_values=nan,\n",
       "                                                                                 strategy='median',\n",
       "                                                                                 verbose=0))],\n",
       "                                                           verbose=False),\n",
       "                                                  ['bike_time_secs'...\n",
       "                 RandomForestRegressor(bootstrap=True, ccp_alpha=0.0,\n",
       "                                       criterion='mse', max_depth=None,\n",
       "                                       max_features='auto', max_leaf_nodes=None,\n",
       "                                       max_samples=None,\n",
       "                                       min_impurity_decrease=0.0,\n",
       "                                       min_impurity_split=None,\n",
       "                                       min_samples_leaf=1, min_samples_split=2,\n",
       "                                       min_weight_fraction_leaf=0.0,\n",
       "                                       n_estimators=100, n_jobs=None,\n",
       "                                       oob_score=False, random_state=None,\n",
       "                                       verbose=0, warm_start=False))],\n",
       "         verbose=False)"
      ]
     },
     "execution_count": 353,
     "metadata": {},
     "output_type": "execute_result"
    }
   ],
   "source": [
    "rf_pipeline.fit(pd.concat([X_train, X_test]), pd.concat([y_train, y_test]))"
   ]
  },
  {
   "cell_type": "code",
   "execution_count": 359,
   "metadata": {},
   "outputs": [],
   "source": [
    "pickle.dump(rf_pipeline, open('rf_pipeline.pkl', 'wb'))"
   ]
  },
  {
   "cell_type": "code",
   "execution_count": 364,
   "metadata": {},
   "outputs": [],
   "source": [
    "loaded_rf_pipeline = pickle.load(open('rf_pipeline.pkl','rb'))"
   ]
  },
  {
   "cell_type": "code",
   "execution_count": 365,
   "metadata": {},
   "outputs": [
    {
     "data": {
      "text/plain": [
       "array([2042.68, 1929.56, 1852.71, ..., 1982.18, 1953.17, 1652.88])"
      ]
     },
     "execution_count": 365,
     "metadata": {},
     "output_type": "execute_result"
    }
   ],
   "source": [
    "loaded_rf_pipeline.predict(X_test)"
   ]
  },
  {
   "cell_type": "code",
   "execution_count": null,
   "metadata": {},
   "outputs": [],
   "source": []
  }
 ],
 "metadata": {
  "kernelspec": {
   "display_name": "Python 3",
   "language": "python",
   "name": "python3"
  },
  "language_info": {
   "codemirror_mode": {
    "name": "ipython",
    "version": 3
   },
   "file_extension": ".py",
   "mimetype": "text/x-python",
   "name": "python",
   "nbconvert_exporter": "python",
   "pygments_lexer": "ipython3",
   "version": "3.7.3"
  }
 },
 "nbformat": 4,
 "nbformat_minor": 2
}
